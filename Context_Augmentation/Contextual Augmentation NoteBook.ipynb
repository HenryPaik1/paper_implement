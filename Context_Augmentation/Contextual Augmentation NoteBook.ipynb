{
 "cells": [
  {
   "cell_type": "markdown",
   "metadata": {},
   "source": [
    "# Prerequisite\n",
    "- preprocessed IMDB dataset\n",
    "    - IMDB dataset oroginal: http://ai.stanford.edu/~amaas/data/sentiment/\n",
    "    - IMBD dataset csv: https://www.kaggle.com/lakshmi25npathi/imdb-dataset-of-50k-movie-reviews\n",
    "- glove pretrained model: https://nlp.stanford.edu/projects/glove/"
   ]
  },
  {
   "cell_type": "markdown",
   "metadata": {},
   "source": [
    "# 1. load data"
   ]
  },
  {
   "cell_type": "code",
   "execution_count": 4,
   "metadata": {},
   "outputs": [],
   "source": [
    "import matplotlib.pyplot as plt\n",
    "from torchtext import data\n",
    "from torchtext.data import TabularDataset\n",
    "import torchtext.vocab as vocab\n",
    "import torch.nn as nn\n",
    "import torch\n",
    "import logging\n",
    "import time\n",
    "import gc "
   ]
  },
  {
   "cell_type": "code",
   "execution_count": 5,
   "metadata": {},
   "outputs": [
    {
     "name": "stderr",
     "output_type": "stream",
     "text": [
      "/home/henry/anaconda3/envs/torch37/lib/python3.7/site-packages/torchtext/data/field.py:150: UserWarning: Field class will be retired in the 0.8.0 release and moved to torchtext.legacy. Please see 0.7.0 release notes for further information.\n",
      "  warnings.warn('{} class will be retired in the 0.8.0 release and moved to torchtext.legacy. Please see 0.7.0 release notes for further information.'.format(self.__class__.__name__), UserWarning)\n",
      "/home/henry/anaconda3/envs/torch37/lib/python3.7/site-packages/torchtext/data/example.py:13: UserWarning: Example class will be retired in the 0.8.0 release and moved to torchtext.legacy. Please see 0.7.0 release notes for further information.\n",
      "  warnings.warn('Example class will be retired in the 0.8.0 release and moved to torchtext.legacy. Please see 0.7.0 release notes for further information.', UserWarning)\n"
     ]
    }
   ],
   "source": [
    "PATH = '/home/henry/devdir'\n",
    "\n",
    "TEXT = data.Field(sequential=True,\n",
    "                  use_vocab=True,\n",
    "                  tokenize=str.split,\n",
    "                  lower=True,\n",
    "                  batch_first=True,\n",
    "                  fix_length=3014)\n",
    "\n",
    "LABEL = data.Field(sequential=False,\n",
    "                   use_vocab=False,\n",
    "                   batch_first=False,\n",
    "                   preprocessing = lambda x: int(x),\n",
    "                   is_target=True)\n",
    "\n",
    "# train_data, validation_data = TabularDataset.splits(\n",
    "#     path='.', \n",
    "#     train='./Data/IMDB_clean_train.json', \n",
    "#     test='./Data/IMDB_clean_validation.json', \n",
    "#     format='json',\n",
    "#     fields={'review': ('text', TEXT),\n",
    "#             'sentiment': ('label', LABEL)}, skip_header=True)\n",
    "\n",
    "dataset = TabularDataset(\n",
    "                path=PATH + '/Research_mine_codes/Data/IMDB_clean_data_with_eos.json',\n",
    "                skip_header=True,\n",
    "                format='json',\n",
    "                fields={'review': ('text', TEXT),\n",
    "                        'sentiment': ('label', LABEL)})\n",
    "\n",
    "# dataset = TabularDataset(\n",
    "#                 path=PATH + '/mine_codes/Data/IMDB_clean_sentence.json',\n",
    "#                 skip_header=True,\n",
    "#                 format='json',\n",
    "#                 fields={'review': ('text', TEXT),\n",
    "#                         'sentiment': ('label', LABEL)})\n",
    "\n",
    "\n",
    "FILE = PATH + '/data/glove.840B.300d.txt'\n",
    "TEXT.build_vocab(dataset, vectors=vocab.Vectors(name=FILE,), min_freq=20)"
   ]
  },
  {
   "cell_type": "markdown",
   "metadata": {},
   "source": [
    "- test code"
   ]
  },
  {
   "cell_type": "code",
   "execution_count": 6,
   "metadata": {},
   "outputs": [
    {
     "name": "stderr",
     "output_type": "stream",
     "text": [
      "/home/henry/anaconda3/envs/torch37/lib/python3.7/site-packages/torchtext/data/iterator.py:48: UserWarning: BucketIterator class will be retired in the 0.8.0 release and moved to torchtext.legacy. Please see 0.7.0 release notes for further information.\n",
      "  warnings.warn('{} class will be retired in the 0.8.0 release and moved to torchtext.legacy. Please see 0.7.0 release notes for further information.'.format(self.__class__.__name__), UserWarning)\n",
      "The `device` argument should be set by using `torch.device` or passing a string as an argument. This behavior will be deprecated soon and currently defaults to cpu.\n"
     ]
    }
   ],
   "source": [
    "bs=3\n",
    "data_iter= data.BucketIterator(dataset,\n",
    "                    batch_size=bs,\n",
    "                    device=-1, sort_key=lambda x: len(x.text), sort=False, \n",
    "                    shuffle=True, repeat=False)"
   ]
  },
  {
   "cell_type": "code",
   "execution_count": 7,
   "metadata": {},
   "outputs": [
    {
     "name": "stderr",
     "output_type": "stream",
     "text": [
      "/home/henry/anaconda3/envs/torch37/lib/python3.7/site-packages/torchtext/data/batch.py:23: UserWarning: Batch class will be retired in the 0.8.0 release and moved to torchtext.legacy. Please see 0.7.0 release notes for further information.\n",
      "  warnings.warn('{} class will be retired in the 0.8.0 release and moved to torchtext.legacy. Please see 0.7.0 release notes for further information.'.format(self.__class__.__name__), UserWarning)\n"
     ]
    },
    {
     "data": {
      "text/plain": [
       "(torch.Size([3, 3014]), torch.Size([3]))"
      ]
     },
     "execution_count": 7,
     "metadata": {},
     "output_type": "execute_result"
    }
   ],
   "source": [
    "# test\n",
    "b = next(iter(data_iter))\n",
    "b.text.shape, b.label.shape"
   ]
  },
  {
   "cell_type": "code",
   "execution_count": 8,
   "metadata": {},
   "outputs": [
    {
     "data": {
      "text/plain": [
       "tensor([1, 1, 1])"
      ]
     },
     "execution_count": 8,
     "metadata": {},
     "output_type": "execute_result"
    }
   ],
   "source": [
    "b.label"
   ]
  },
  {
   "cell_type": "code",
   "execution_count": 9,
   "metadata": {},
   "outputs": [
    {
     "data": {
      "text/plain": [
       "tensor([[    3,    14,  1443,  ...,     1,     1,     1],\n",
       "        [    3,   613,  4288,  ...,     1,     1,     1],\n",
       "        [    3,    44, 11501,  ...,     1,     1,     1]])"
      ]
     },
     "execution_count": 9,
     "metadata": {},
     "output_type": "execute_result"
    }
   ],
   "source": [
    "b.text"
   ]
  },
  {
   "cell_type": "markdown",
   "metadata": {},
   "source": [
    "- special token"
   ]
  },
  {
   "cell_type": "code",
   "execution_count": 11,
   "metadata": {},
   "outputs": [
    {
     "data": {
      "text/plain": [
       "(0, 1)"
      ]
     },
     "execution_count": 11,
     "metadata": {},
     "output_type": "execute_result"
    }
   ],
   "source": [
    "TEXT.vocab.stoi['<unk>'], TEXT.vocab.stoi['<pad>']"
   ]
  },
  {
   "cell_type": "markdown",
   "metadata": {},
   "source": [
    "# 2. Logger"
   ]
  },
  {
   "cell_type": "code",
   "execution_count": 27,
   "metadata": {},
   "outputs": [],
   "source": [
    "def get_logger(name):\n",
    "    \n",
    "    # init\n",
    "    logger = logging.getLogger(name)\n",
    "    logger.setLevel(logging.INFO)\n",
    "    formatter = logging.Formatter\\\n",
    "        ('%(asctime)s - %(name)s - %(levelname)s - %(message)s')\n",
    "    formatter = logging.Formatter(\n",
    "        fmt='%(asctime)s.%(msecs)03d %(levelname)s:\\t%(message)s', datefmt='%Y-%m-%d %H:%M:%S'\n",
    "    )\n",
    "    \n",
    "#     # handler: console\n",
    "#     console = logging.StreamHandler()\n",
    "#     console.setLevel(logging.INFO)\n",
    "#     console.setFormatter(formatter)\n",
    "\n",
    "    # handler: file\n",
    "    timestr = time.strftime('%Y%m%d_%H:%M:%S')\n",
    "    file_name = 'log/{}_{}.log'.format(name, timestr)\n",
    "\n",
    "    file_handler = logging.FileHandler(file_name)\n",
    "    file_handler.setLevel(logging.INFO)\n",
    "    file_handler.setFormatter(formatter)\n",
    "\n",
    "    # wrap\n",
    "    logger.handlers.clear()\n",
    "#     logger.addHandler(console)\n",
    "    logger.addHandler(file_handler)\n",
    "    return logger"
   ]
  },
  {
   "cell_type": "markdown",
   "metadata": {},
   "source": [
    "# 3. scheduler simulation"
   ]
  },
  {
   "cell_type": "code",
   "execution_count": 14,
   "metadata": {},
   "outputs": [],
   "source": [
    "class TestModel(nn.Module):\n",
    "    def __init__(self):\n",
    "        super().__init__()\n",
    "        self.lm = nn.Linear(2,3)\n",
    "    def forward(self, x):\n",
    "        return self.lm(x)\n",
    "\n",
    "test_model = TestModel()"
   ]
  },
  {
   "cell_type": "code",
   "execution_count": 16,
   "metadata": {},
   "outputs": [
    {
     "data": {
      "text/plain": [
       "<matplotlib.collections.PathCollection at 0x7fa0818b74d0>"
      ]
     },
     "execution_count": 16,
     "metadata": {},
     "output_type": "execute_result"
    },
    {
     "data": {
      "image/png": "[encoded data removed]",
      "text/plain": [
       "<Figure size 432x288 with 1 Axes>"
      ]
     },
     "metadata": {
      "needs_background": "light"
     },
     "output_type": "display_data"
    }
   ],
   "source": [
    "warmup_epoch = 1\n",
    "total_epoch = 5\n",
    "n_iter = 200 \n",
    "n_annealing_iter = (total_epoch-warmup_epoch)*n_iter\n",
    "n_cycle = 5\n",
    "\n",
    "max_lr = 0.01; min_lr = 0.0001;\n",
    "base_lr = max_lr / (warmup_epoch*n_iter)\n",
    "bias = min_lr * (1/base_lr)\n",
    "\n",
    "####################### scheduler1\n",
    "lr_ls = []\n",
    "optimizer = torch.optim.Adam(test_model.parameters(), lr=base_lr)\n",
    "\n",
    "lambda1 = lambda x: bias+x\n",
    "scheduler = torch.optim.lr_scheduler.LambdaLR(optimizer, lr_lambda=lambda1)\n",
    "\n",
    "j=0\n",
    "for e in range(total_epoch):\n",
    "    if e == warmup_epoch:\n",
    "        optimizer = torch.optim.Adam(test_model.parameters(), lr=optimizer.param_groups[0]['lr']/4)\n",
    "        scheduler = torch.optim.lr_scheduler.CosineAnnealingWarmRestarts(optimizer, T_0=int(n_annealing_iter/n_cycle), T_mult=1, eta_min=min_lr)\n",
    "    for _ in range(n_iter):\n",
    "        j+=1\n",
    "        lr_ls.append(scheduler.get_last_lr()[0])\n",
    "        optimizer.step()\n",
    "        scheduler.step()\n",
    "        \n",
    "plt.plot(lr_ls)\n",
    "plt.scatter(range(len(lr_ls)), lr_ls, s=0.3, c='r')"
   ]
  },
  {
   "cell_type": "markdown",
   "metadata": {},
   "source": [
    "# 4. Model"
   ]
  },
  {
   "cell_type": "code",
   "execution_count": 29,
   "metadata": {},
   "outputs": [],
   "source": [
    "class net(nn.Module):\n",
    "    def __init__(self, voc_size, hidn_size, emb_size=300):\n",
    "        super().__init__()\n",
    "        self.pos_id = TEXT.vocab.stoi['positive']\n",
    "        self.neg_id = TEXT.vocab.stoi['negative']\n",
    "\n",
    "        self.voc_size = voc_size\n",
    "        self.emb_size = emb_size\n",
    "        self.hidn_size = hidn_size\n",
    "        self.emb = nn.Embedding(num_embeddings=voc_size, embedding_dim=emb_size) # in: (bs, seq_len); out: (bs, seq_len, emb_size)\n",
    "        self.lstm = nn.LSTM(input_size=emb_size, hidden_size=hidn_size, bidirectional=True, dropout=0.2, batch_first=True) # in: (bs, seq, dim); hidn in: (num_layers * num_directions, batch, hidden_size)\n",
    "        self.lm_out = nn.Linear(hidn_size*2+emb_size, voc_size) # input concatenated_out: (seq_len, bs, hidn_dim) -> permute: (bs, seq_len, hidn_dim) \n",
    "\n",
    "    def init_state(self, bs):\n",
    "        return (torch.zeros(size=(2, bs, self.hidn_size)), torch.zeros(size=(2, bs, self.hidn_size)))\n",
    "        \n",
    "    def forward(self, x, prev_state, label):\n",
    "        state_h, state_c = prev_state\n",
    "        bs = len(x)\n",
    "\n",
    "        # processing label part\n",
    "        label[label==1] = self.pos_id # label: (1, bs)\n",
    "        label[label==0] = self.neg_id\n",
    "        \n",
    "        label_emb = self.emb(label.view(1, -1)) # shape: (seq_len=1, bs, emb_size)\n",
    "        label_emb = label_emb.expand(x.size()[1]-2, bs, self.emb_size) # shape: (seq_len-2, bs, emb_size)\n",
    "        label_emb = label_emb.permute(1, 0, -1)\n",
    "        \n",
    "        # processing hidden state part\n",
    "        emb = self.emb(x) # shape: (bs, seq_len, emb_size)\n",
    "        out, (state_h, state_c) = self.lstm(emb, (state_h[:,:bs,:].contiguous(), state_c[:,:bs,:].contiguous()))\n",
    "        \n",
    "        forward_out = out[:, :, :self.hidn_size] # shape: (bs, seq, hidn_dim)\n",
    "        backward_out = out[:, :, self.hidn_size:]\n",
    "        concat_h = torch.cat([forward_out[:,:-2,:], backward_out[:,2:,:]], dim=2) # shape: (bs, seq_len-2, hidn*num_dir)\n",
    "        \n",
    "        # concat label & concatenated hidn state\n",
    "        final_in = torch.cat([concat_h, label_emb], dim=2) # shape: (bs, seq_len-2, hidn_dim*2+emb+size)\n",
    "        final_out = self.lm_out(final_in)  # shape: (bs, seq_len-2, voc_size)\n",
    "\n",
    "        return final_out, (state_h, state_c)\n",
    "\n",
    "\n",
    "def init_weight(m):\n",
    "    for name, param in m.named_parameters():\n",
    "        if 'emb' == name:\n",
    "            continue\n",
    "        if 'weight' in name:\n",
    "            nn.init.xavier_normal_(param.data)\n",
    "        if 'bias' in name:\n",
    "            nn.init.constant_(param.data, 0)\n",
    "\n",
    "def save_model(model, f='0930_biLSTM_50epoch_label_cosine_annealing.model'):\n",
    "    fn = 'source/{}.pkl'.format(f)\n",
    "    torch.save(model.state_dict(), fn)\n",
    "\n",
    "def repackage_hidden(h):\n",
    "    if type(h) == torch.Tensor:\n",
    "        return h.detach()\n",
    "    else:\n",
    "        return tuple(repackage_hidden(v) for v in h)"
   ]
  },
  {
   "cell_type": "markdown",
   "metadata": {},
   "source": [
    "# 5. Train"
   ]
  },
  {
   "cell_type": "code",
   "execution_count": 30,
   "metadata": {},
   "outputs": [],
   "source": [
    "import pickle\n",
    "\n",
    "fn = 'source/1001_sample_pos_sentences.pkl'\n",
    "with open(fn, 'rb') as f:\n",
    "    length_pos_sample_dict = pickle.load(f)\n",
    "\n",
    "fn = 'source/1001_sample_neg_sentences.pkl'\n",
    "with open(fn, 'rb') as f:\n",
    "    length_neg_sample_dict = pickle.load(f)\n",
    "\n",
    "def init_weight(m):\n",
    "    for name, param in m.named_parameters():\n",
    "        try:\n",
    "            if 'emb' == name:\n",
    "                continue\n",
    "            if 'weight' in name:\n",
    "                nn.init.xavier_normal_(param.data)\n",
    "            if 'bias' in name:\n",
    "                nn.init.constant_(param.data, 0)\n",
    "        except:\n",
    "            continue\n",
    "            \n",
    "def reverse_token(tensor_):\n",
    "    return ' '.join([TEXT.vocab.itos[i] for i in tensor_])\n",
    "\n",
    "def check_pos_neg(model, logger):\n",
    "    \"\"\"\n",
    "    pos, neg label에 따라 token의 분포가 다른지 확인\n",
    "    \"\"\"\n",
    "\n",
    "    def return_pred_review(model, data_, label_, is_label=True):\n",
    "        \"\"\"\n",
    "        return logit for each sequence\n",
    "        - out: shape (bs*seq_len, voc_len)\n",
    "        \"\"\"\n",
    "        device = 'cuda'\n",
    "        bs = len(label_)\n",
    "        model.eval()\n",
    "\n",
    "        with torch.no_grad():\n",
    "            data_ = data_.to(device)\n",
    "            prev_state = model.init_state(bs=bs)\n",
    "            prev_state = list(map(lambda x: x.to(device), prev_state))\n",
    "            if is_label:\n",
    "                label_ = label_.to(device)\n",
    "                out, prev_state = model(data_, prev_state, label_)\n",
    "            else:\n",
    "                out, prev_state = model(data_, prev_state)\n",
    "        return out\n",
    "\n",
    "    def _make_batch_data(ls_value):\n",
    "        \"\"\"\n",
    "        batch_iterator에 사용되는 함수\n",
    "        10 quntile 글자 단위로 묶여 있는 배치 return\n",
    "        \"\"\"\n",
    "        source = torch.nn.utils.rnn.pad_sequence([torch.LongTensor(ls) for ls in ls_value], batch_first=True)\n",
    "        return source\n",
    "\n",
    "    def batch_iterator(full_dict, is_pos=True):\n",
    "        \"\"\"\n",
    "        dict사용하여 batch data 생성하는 iterator\n",
    "        \"\"\"\n",
    "        for k, v in full_dict.items():\n",
    "            source = _make_batch_data(v)\n",
    "            if is_pos:\n",
    "                labels = torch.ones(len(source), dtype=torch.long)\n",
    "            else:\n",
    "                labels = torch.zeros(len(source), dtype=torch.long)\n",
    "            yield source, labels\n",
    "    \n",
    "    generated_label = []\n",
    "    for batch, label in batch_iterator(length_pos_sample_dict, is_pos=True):\n",
    "        out = return_pred_review(model, batch, label, is_label=True)\n",
    "        generated_label.append(out)\n",
    "        \n",
    "    generated_ls_neg = []\n",
    "    for batch, label in batch_iterator(length_pos_sample_dict, is_pos=False):\n",
    "        out = return_pred_review(model, batch, label)\n",
    "        generated_ls_neg.append(out)\n",
    "        \n",
    "    for i in range(10):\n",
    "        logger.info('pos == neg?: {}'.format(torch.all(generated_label[i] == generated_ls_neg[i])))\n",
    "\n",
    "\n",
    "def train(model, data_iter, device, logger, warmup_epoch, total_epoch, n_cycle, max_lr=0.01, min_lr=0.0001, j=0, f='tag', q=0.8):\n",
    "    \"\"\"\n",
    "    parameters\n",
    "    ----------\n",
    "    epoch: epoch for train lr\n",
    "    j: epoch for log\n",
    "    \"\"\"\n",
    "    model.to(device)\n",
    "    loss_func = nn.CrossEntropyLoss()\n",
    "    \n",
    "    ####################### scheduler\n",
    "    n_iter = len(data_iter) # annealing starting point: 200/1000\n",
    "    n_annealing_iter = (total_epoch-warmup_epoch)*n_iter\n",
    "    base_lr = max_lr / (warmup_epoch*n_iter)\n",
    "    bias = min_lr * (1/base_lr)\n",
    "    lambda1 = lambda x: bias+x\n",
    "    optimizer = torch.optim.SGD(model.parameters(), lr=base_lr)\n",
    "\n",
    "    scheduler = torch.optim.lr_scheduler.LambdaLR(optimizer, lr_lambda=lambda1)\n",
    "\n",
    "    for e in range(total_epoch):\n",
    "        if e == warmup_epoch:\n",
    "            optimizer = torch.optim.SGD(model.parameters(), lr=optimizer.param_groups[0]['lr'])\n",
    "            scheduler = torch.optim.lr_scheduler.CosineAnnealingWarmRestarts(optimizer, T_0=int(n_annealing_iter/n_cycle), T_mult=1, eta_min=min_lr)\n",
    "        j +=1\n",
    "        total_loss = 0\n",
    "\n",
    "        for i, batch in enumerate(data_iter, 1):\n",
    "            model.train()\n",
    "            batch_x, label = map(lambda x: x.to(device), [batch.text, batch.label])\n",
    "            batch_y = batch_x[:, 1:-1].to(device)\n",
    "            del batch\n",
    "            \n",
    "            prev_state = model.init_state(bs=len(batch_x))\n",
    "            prev_state = repackage_hidden(prev_state)\n",
    "            prev_state = list(map(lambda x: x.to(device), prev_state))\n",
    "            out, prev_state = model(batch_x, prev_state, label)\n",
    "\n",
    "            ###################################################### sample\n",
    "            x, y = torch.where(batch_y > 1) # special token id: 0,1,2,3\n",
    "            target_token_len = len(x)\n",
    "            sample_n = int(target_token_len*q)\n",
    "\n",
    "            # sample token idx\n",
    "            token_idx = torch.randperm(target_token_len)[:sample_n]\n",
    "\n",
    "            # select target tokens from target\n",
    "            batch_y = batch_y[x[token_idx], y[token_idx]]\n",
    "            out = out[x[token_idx], y[token_idx], :]\n",
    "            ###################################################### sample\n",
    "            optimizer.zero_grad()\n",
    "            loss = loss_func(out, batch_y)\n",
    "            # loss = loss/len(batch_y_)\n",
    "            total_loss += loss\n",
    "\n",
    "            loss.backward()\n",
    "            torch.nn.utils.clip_grad_norm_(model.parameters(), 1)\n",
    "            optimizer.step()\n",
    "            scheduler.step()\n",
    "\n",
    "            if i%10 == 0:\n",
    "                logger.info(total_loss/i)\n",
    "                logger.info('epoch: {}'.format(j))\n",
    "                logger.info('lr: {}'.format(scheduler.get_last_lr()[0]))\n",
    "                logger.info('x')\n",
    "                logger.info(reverse_token(torch.argmax(out, dim=1).detach()))\n",
    "                gc.collect()        \n",
    "        # save model for each epoch\n",
    "        save_model(model, f= f + '_' + str(j) +'.model')\n",
    "        \n",
    "        logger.info(total_loss/i)\n",
    "        logger.info('epoch: {}'.format(j))\n",
    "        logger.info('x')\n",
    "        logger.info(reverse_token(torch.argmax(out, dim=1).detach()))\n",
    "        logger.info('y')\n",
    "        logger.info(reverse_token(batch_y))\n",
    "        check_pos_neg(model, logger)"
   ]
  },
  {
   "cell_type": "code",
   "execution_count": 32,
   "metadata": {},
   "outputs": [],
   "source": [
    "device = 'cuda' if torch.cuda.is_available() else 'cpu'\n",
    "f = 'test'\n",
    "logger = get_logger(f)\n",
    "\n",
    "## label model\n",
    "model = net(voc_size=len(TEXT.vocab), emb_size=300, hidn_size=50)\n",
    "model.apply(init_weight)\n",
    "\n",
    "# load weight\n",
    "# fn = './source/' + '1005_label_model_review_15.model.pkl'\n",
    "# model.load_state_dict(torch.load(fn, map_location=device))\n",
    "\n",
    "model.emb.weight.data.copy_(TEXT.vocab.vectors)\n",
    "model.emb.weight.requires_grad = False\n",
    "train(model, data_iter, device, logger, warmup_epoch=1, total_epoch=50, n_cycle=5, max_lr=0.5, min_lr=0.0008, j=0, f=f)"
   ]
  }
 ],
 "metadata": {
  "kernelspec": {
   "display_name": "torch37",
   "language": "python",
   "name": "torch37"
  },
  "language_info": {
   "codemirror_mode": {
    "name": "ipython",
    "version": 3
   },
   "file_extension": ".py",
   "mimetype": "text/x-python",
   "name": "python",
   "nbconvert_exporter": "python",
   "pygments_lexer": "ipython3",
   "version": "3.7.7"
  }
 },
 "nbformat": 4,
 "nbformat_minor": 4
}
