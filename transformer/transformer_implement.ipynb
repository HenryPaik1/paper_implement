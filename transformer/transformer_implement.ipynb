{
 "cells": [
  {
   "cell_type": "code",
   "execution_count": 3,
   "metadata": {},
   "outputs": [],
   "source": [
    "import os\n",
    "import numpy as np\n",
    "import math\n",
    "import matplotlib.pyplot as plt\n",
    "import sentencepiece as spm\n",
    "\n",
    "import torch\n",
    "import torch.nn as nn\n",
    "import torch.nn.functional as F"
   ]
  },
  {
   "cell_type": "code",
   "execution_count": 2,
   "metadata": {},
   "outputs": [
    {
     "data": {
      "text/plain": [
       "True"
      ]
     },
     "execution_count": 2,
     "metadata": {},
     "output_type": "execute_result"
    }
   ],
   "source": [
    "import torch\n",
    "device = torch.device(\"cuda\" if torch.cuda.is_available() else \"cpu\")\n",
    "vocab_file = '/home/henry/Documents/wrapper/transformer-evolution/transformer/kowiki.model'\n",
    "vocab = spm.SentencePieceProcessor()\n",
    "vocab.load(vocab_file)"
   ]
  },
  {
   "cell_type": "markdown",
   "metadata": {},
   "source": [
    "# 1. vocab\n",
    "- Word Piece Model\n",
    "    - 단어와 subword unit으로 나눔\n",
    "    - 단어의 시작을 특수문자; subword unit은 space로 나눔;"
   ]
  },
  {
   "cell_type": "code",
   "execution_count": null,
   "metadata": {},
   "outputs": [],
   "source": [
    "# data_dir = '/home/henry/Documents/wrapper/transformer-evolution/ratings_train.txt'\n",
    "# lines = []; outputs = [];\n",
    "# with open(data_dir, \"r\") as f:\n",
    "#     for idx, line in enumerate(f):\n",
    "#         if idx == 0:\n",
    "#             continue\n",
    "#         if idx == 4:\n",
    "#             break\n",
    "#         temp = line.split()\n",
    "#         lines.append(' '.join(temp[1:-1]))\n",
    "#         outputs.append(temp[-1])"
   ]
  },
  {
   "cell_type": "code",
   "execution_count": 3,
   "metadata": {},
   "outputs": [],
   "source": [
    "lines = [\n",
    "  \"겨울은 추워요.\",\n",
    "  \"감기 조심하세요.\"\n",
    "]"
   ]
  },
  {
   "cell_type": "code",
   "execution_count": 4,
   "metadata": {},
   "outputs": [
    {
     "name": "stdout",
     "output_type": "stream",
     "text": [
      "['▁겨울', '은', '▁추', '워', '요', '.']\n",
      "['▁감', '기', '▁조', '심', '하', '세', '요', '.']\n"
     ]
    }
   ],
   "source": [
    "inputs = []\n",
    "for line in lines:\n",
    "    pieces = vocab.encode_as_pieces(line)\n",
    "    ids = vocab.encode_as_ids(line)\n",
    "    inputs.append(torch.tensor(ids))\n",
    "    print(pieces)"
   ]
  },
  {
   "cell_type": "code",
   "execution_count": 5,
   "metadata": {},
   "outputs": [
    {
     "name": "stdout",
     "output_type": "stream",
     "text": [
      "[tensor([3091, 3604,  206, 3958, 3760, 3590]), tensor([ 212, 3605,   53, 3832, 3596, 3682, 3760, 3590])]\n"
     ]
    }
   ],
   "source": [
    "print(inputs)"
   ]
  },
  {
   "cell_type": "code",
   "execution_count": 6,
   "metadata": {},
   "outputs": [
    {
     "name": "stdout",
     "output_type": "stream",
     "text": [
      "tensor([[3091, 3604,  206, 3958, 3760, 3590,    0,    0],\n",
      "        [ 212, 3605,   53, 3832, 3596, 3682, 3760, 3590]]) torch.Size([2, 8])\n"
     ]
    }
   ],
   "source": [
    "inputs = torch.nn.utils.rnn.pad_sequence(inputs, batch_first=True, padding_value=0)\n",
    "print(inputs, inputs.size())"
   ]
  },
  {
   "cell_type": "markdown",
   "metadata": {},
   "source": [
    "# 2. embedding\n",
    "\n",
    "### 2.1. word embedding"
   ]
  },
  {
   "cell_type": "code",
   "execution_count": 7,
   "metadata": {},
   "outputs": [],
   "source": [
    "n_vocab = len(vocab)\n",
    "d_hidn = 128\n",
    "nn_emb = nn.Embedding(num_embeddings=n_vocab, embedding_dim=d_hidn)\n",
    "\n",
    "# torch.Size([2, 8, 128])\n",
    "input_embs = nn_emb(inputs) # 임베딩 레이어에 input "
   ]
  },
  {
   "cell_type": "markdown",
   "metadata": {},
   "source": [
    "### 2.2. position embedding\n",
    "- $PE(pos, 2i) = sin(\\frac{pos}{1E+4^{2i / d_{model}}}),$\n",
    "- $PE(pos, 2i+1) = cos(\\frac{pos}{1E+4^{2i / d_{model}}}),$\n",
    "- i: embedding vector에서 idx\n",
    "- pos: sentence에서 position"
   ]
  },
  {
   "cell_type": "code",
   "execution_count": 12,
   "metadata": {},
   "outputs": [],
   "source": [
    "def get_sinusoid_encoding_table(n_seq, d_hidn):\n",
    "    \"\"\"\n",
    "    n_seq: seq_len\n",
    "    d_hidn: sinusoid table dim \n",
    "    \"\"\"\n",
    "    def _cal_angle(pos, i_hidn):\n",
    "        return pos / np.power(10000, 2 * (i_hidn // 2) / d_hidn)\n",
    "    \n",
    "    def _get_posi_angle_vec(pos):\n",
    "        \"\"\"\n",
    "        sentence의 pos 하나(즉 단어 하나)에 대해 embedding; feature1, feature2, ...., feature128 \n",
    "        즉, sequence의 각 position을 128차원으로 position embedding\n",
    "        예컨대, 첫번째 자리 pos embedding은 정해져 있으므로, 첫번째 자리에 어떤 단어가 들어오든, \n",
    "        해당 pos embedding이 word embedding에 더해짐\n",
    "        \"\"\"\n",
    "        return [_cal_angle(pos, i_hidn) for i_hidn in range(d_hidn)]\n",
    "    \n",
    "    # seq_pos: Word의 sentence 내의 위치 = i\n",
    "    sinusoid_table = np.array([_get_posi_angle_vec(seq_pos) for seq_pos in range(n_seq)])\n",
    "    sinusoid_table[:, 0::2] = np.sin(sinusoid_table[:, 0::2])\n",
    "    sinusoid_table[:, 1::2] = np.cos(sinusoid_table[:, 1::2])\n",
    "    \n",
    "    return sinusoid_table"
   ]
  },
  {
   "cell_type": "code",
   "execution_count": 13,
   "metadata": {},
   "outputs": [
    {
     "name": "stdout",
     "output_type": "stream",
     "text": [
      "(64, 128)\n"
     ]
    }
   ],
   "source": [
    "# 64개 단어가 하나의 sentence; 128차원 posion임베딩;\n",
    "n_seq = 64\n",
    "pos_encoding = get_sinusoid_encoding_table(n_seq, d_hidn)\n",
    "print(pos_encoding.shape)"
   ]
  },
  {
   "cell_type": "code",
   "execution_count": 14,
   "metadata": {},
   "outputs": [
    {
     "data": {
      "image/png": "[encoded data removed]",
      "text/plain": [
       "<Figure size 1080x720 with 2 Axes>"
      ]
     },
     "metadata": {
      "needs_background": "light"
     },
     "output_type": "display_data"
    }
   ],
   "source": [
    "# row: sentence에서 위치(pos)\n",
    "%matplotlib inline\n",
    "plt.figure(figsize=(15,10))\n",
    "plt.pcolormesh(pos_encoding, cmap='twilight_shifted')\n",
    "plt.xlabel('embd_feature')\n",
    "plt.xlim([0, d_hidn])\n",
    "plt.ylabel('word_pos')\n",
    "plt.colorbar()\n",
    "plt.show()"
   ]
  },
  {
   "cell_type": "markdown",
   "metadata": {},
   "source": [
    "### 2.3. pos embd + word embd\n",
    "- 의문: pos embd도 train 필요? Nope\n",
    "- batch_size & seq_len만큼 position mat 생성\n",
    "- position mat에서 padding 위치의 value는 0처리"
   ]
  },
  {
   "cell_type": "code",
   "execution_count": 15,
   "metadata": {},
   "outputs": [],
   "source": [
    "pos_encoding = torch.FloatTensor(pos_encoding)\n",
    "nn_pos = nn.Embedding.from_pretrained(pos_encoding, freeze=True) # layer; lookup table\n",
    "# >> Embedding(64, 128)\n",
    "\n",
    "position = torch.arange(inputs.size(1), device=inputs.device, dtype=inputs.dtype)\n",
    "# >> tensor([0, 1, 2, 3, 4, 5, 6, 7])\n",
    "position = position.expand(inputs.size())\n",
    "# >> tensor([[0, 1, 2, 3, 4, 5, 6, 7],\n",
    "#            [0, 1, 2, 3, 4, 5, 6, 7]])\n",
    "position = position.contiguous() + 1 # pad=0이므로 1을 더해 pos에 0없앰\n",
    "# >> tensor([[1, 2, 3, 4, 5, 6, 7, 8],\n",
    "#            [1, 2, 3, 4, 5, 6, 7, 8]])\n",
    "pos_mask = inputs.eq(0) # find elems equal to 0 = pad\n",
    "# tensor([[False, False, False, False, False, False,  True,  True],\n",
    "#         [False, False, False, False, False, False, False, False]])\n",
    "\n",
    "position.masked_fill_(pos_mask, 0) # pad는 position 정보도 주지 않음 <- idx 0의 weight를 동일하게 부여\n",
    "# tensor([[1, 2, 3, 4, 5, 6, 0, 0],\n",
    "#         [1, 2, 3, 4, 5, 6, 7, 8]])\n",
    "\n",
    "pos_embs = nn_pos(position)\n",
    "# pos_embs.shape \n",
    "# >> torch.Size([2, 8, 128]) # batch_size, sequence_len, emb_dim"
   ]
  },
  {
   "cell_type": "code",
   "execution_count": 16,
   "metadata": {},
   "outputs": [
    {
     "name": "stdout",
     "output_type": "stream",
     "text": [
      "tensor([[3091, 3604,  206, 3958, 3760, 3590,    0,    0],\n",
      "        [ 212, 3605,   53, 3832, 3596, 3682, 3760, 3590]])\n",
      "tensor([[1, 2, 3, 4, 5, 6, 0, 0],\n",
      "        [1, 2, 3, 4, 5, 6, 7, 8]])\n",
      "torch.Size([2, 8, 128])\n",
      "torch.Size([2, 8, 128])\n"
     ]
    }
   ],
   "source": [
    "print(inputs) # embeddimg idx coresponding to the word\n",
    "print(position)\n",
    "print(pos_embs.size())\n",
    "\n",
    "input_vector = input_embs + pos_embs\n",
    "print(input_vector.size())"
   ]
  },
  {
   "cell_type": "markdown",
   "metadata": {},
   "source": [
    "# 3. Scale Dot Product Attention\n",
    "$$\n",
    "Attention(Q, K, V) = softmax_k(\\dfrac{QK^T}{\\sqrt{d_k}})V\n",
    "$$\n",
    "- 왜 scale? \n",
    "    - d_k는 key vector의 dim. \n",
    "    - depth가 깊다면, $QK^T$ 값이 커짐\n",
    "> \"The dot-product attention is scaled by a factor of square root of the depth. This is done because for large values of depth, the dot product grows large in magnitude pushing the softmax function where it has small gradients resulting in a very hard softmax.\"\n",
    "(https://www.tensorflow.org/tutorials/text/transformer)\n",
    "\n",
    "- detail: 내적은 두 벡터의 크기 * 둘 간의 cosin angle\n",
    "    - $cos \\theta = \\dfrac{A \\dot B}{|A||B|}$\n",
    "    - key dim으로 정규화하면 값이 너무 커지는 것을 방지할 수 있음(https://physics.stackexchange.com/questions/252086/dot-product-approaches-zero-as-the-magnitude-of-the-vectors-increase)\n",
    "- key, query, value? \n",
    "    - 기존 attention 모델은, decoder time step t의 hidden state와 encoder의 모든 time step의 hidden state간의 score를 산출. \n",
    "    - 그리고 그 score를 다시 encoder의 hidden state에 곱하여 weight를 주고, 합산하여 context vector를 산출. \n",
    "    - 위 context vector는, time step t의 hidden state와 concat.\n",
    "    - concat된 vector는 feedforward 통과하여 time step t의 출력값\n",
    "    - 이를 transformer와 비교해보자면, score은 **value**(but value vector 따로 있음), decoder의 hidden state는 **query**, encoder의 hidden state는 **key**에 해당.\n",
    "    \n",
    ">  \"Traditionally, the attention weights were the relevance of the encoder hidden states (values) in processing the decoder state (query) and were calculated based on the encoder hidden states (keys) and the decoder hidden state (query).\"(https://mlexplained.com/2017/12/29/attention-is-all-you-need-explained/)"
   ]
  },
  {
   "cell_type": "markdown",
   "metadata": {},
   "source": [
    "- Encoder attention layer는 self attention이므로, Key, Value vector가 모두 자기 자신"
   ]
  },
  {
   "cell_type": "code",
   "execution_count": 17,
   "metadata": {},
   "outputs": [],
   "source": [
    "Q = input_vector\n",
    "K = input_vector\n",
    "V = input_vector"
   ]
  },
  {
   "cell_type": "markdown",
   "metadata": {},
   "source": [
    "- attn_mask: key padding indice 마스킹"
   ]
  },
  {
   "cell_type": "code",
   "execution_count": 18,
   "metadata": {},
   "outputs": [],
   "source": [
    "attn_mask = inputs.eq(0).unsqueeze(1).expand(Q.size(0), Q.size(1), Q.size(1))\n",
    "# >> torch.Size([2, 8, 8])\n",
    "# inputs.eq(0) <- 0과 동일한 indice\n",
    "# inputs.eq(0).unsqueeze(1) <- dim에 1차원 추가\n",
    "# # >> torch.Size([2, 1, 8])"
   ]
  },
  {
   "cell_type": "markdown",
   "metadata": {},
   "source": [
    "- Q.k^T"
   ]
  },
  {
   "cell_type": "code",
   "execution_count": 19,
   "metadata": {},
   "outputs": [
    {
     "name": "stdout",
     "output_type": "stream",
     "text": [
      "torch.Size([2, 8, 8])\n",
      "tensor([[179.5888,  41.7893,  55.7287,  49.2325,  36.9820,  35.9830,  72.3760,\n",
      "          72.3760],\n",
      "        [ 41.7893, 166.6653,  48.7700,  33.3297,  21.7528,  30.6943,  42.4888,\n",
      "          42.4888],\n",
      "        [ 55.7287,  48.7700, 184.7157,  47.0776,  44.6705,  19.4141,  65.6235,\n",
      "          65.6235],\n",
      "        [ 49.2325,  33.3297,  47.0776, 167.9512,  53.2116,   8.3903,  64.6899,\n",
      "          64.6899],\n",
      "        [ 36.9820,  21.7528,  44.6705,  53.2116, 197.3110,  84.3212,  48.9055,\n",
      "          48.9055],\n",
      "        [ 35.9830,  30.6943,  19.4141,   8.3903,  84.3212, 196.9775,  49.1287,\n",
      "          49.1287],\n",
      "        [ 72.3760,  42.4888,  65.6235,  64.6899,  48.9055,  49.1287, 237.8780,\n",
      "         237.8780],\n",
      "        [ 72.3760,  42.4888,  65.6235,  64.6899,  48.9055,  49.1287, 237.8780,\n",
      "         237.8780]], grad_fn=<SelectBackward>)\n"
     ]
    }
   ],
   "source": [
    "scores = torch.matmul(Q, K.transpose(-1, -2))\n",
    "print(scores.size())\n",
    "print(scores[0])"
   ]
  },
  {
   "cell_type": "markdown",
   "metadata": {},
   "source": [
    "### 3.1. scale\n",
    "- $1/\\sqrt{d_k}$\n",
    "- d_head? k, q, v vector에 weight mat을 곱한 뒤의 dim"
   ]
  },
  {
   "cell_type": "code",
   "execution_count": 20,
   "metadata": {},
   "outputs": [],
   "source": [
    "d_head = 64\n",
    "scores = scores.mul(1/d_head**0.5)"
   ]
  },
  {
   "cell_type": "markdown",
   "metadata": {},
   "source": [
    "### 3.2 mask\n",
    "- score matrix\n",
    "    - col: key\n",
    "    - row: query"
   ]
  },
  {
   "cell_type": "code",
   "execution_count": 21,
   "metadata": {},
   "outputs": [
    {
     "data": {
      "text/plain": [
       "tensor([[[ 2.2449e+01,  5.2237e+00,  6.9661e+00,  6.1541e+00,  4.6227e+00,\n",
       "           4.4979e+00, -1.0000e+09, -1.0000e+09],\n",
       "         [ 5.2237e+00,  2.0833e+01,  6.0962e+00,  4.1662e+00,  2.7191e+00,\n",
       "           3.8368e+00, -1.0000e+09, -1.0000e+09],\n",
       "         [ 6.9661e+00,  6.0962e+00,  2.3089e+01,  5.8847e+00,  5.5838e+00,\n",
       "           2.4268e+00, -1.0000e+09, -1.0000e+09],\n",
       "         [ 6.1541e+00,  4.1662e+00,  5.8847e+00,  2.0994e+01,  6.6514e+00,\n",
       "           1.0488e+00, -1.0000e+09, -1.0000e+09],\n",
       "         [ 4.6227e+00,  2.7191e+00,  5.5838e+00,  6.6514e+00,  2.4664e+01,\n",
       "           1.0540e+01, -1.0000e+09, -1.0000e+09],\n",
       "         [ 4.4979e+00,  3.8368e+00,  2.4268e+00,  1.0488e+00,  1.0540e+01,\n",
       "           2.4622e+01, -1.0000e+09, -1.0000e+09],\n",
       "         [ 9.0470e+00,  5.3111e+00,  8.2029e+00,  8.0862e+00,  6.1132e+00,\n",
       "           6.1411e+00, -1.0000e+09, -1.0000e+09],\n",
       "         [ 9.0470e+00,  5.3111e+00,  8.2029e+00,  8.0862e+00,  6.1132e+00,\n",
       "           6.1411e+00, -1.0000e+09, -1.0000e+09]],\n",
       "\n",
       "        [[ 2.8982e+01,  9.0554e+00,  8.1452e+00,  7.2475e+00,  1.0899e+01,\n",
       "           7.3969e+00,  8.2242e+00,  7.1360e+00],\n",
       "         [ 9.0554e+00,  2.5131e+01,  6.7855e+00,  9.0694e+00,  8.6217e+00,\n",
       "           5.7723e+00,  4.3850e+00,  4.7790e+00],\n",
       "         [ 8.1452e+00,  6.7855e+00,  2.0220e+01,  4.9853e+00,  6.4141e+00,\n",
       "           4.3975e+00,  5.3926e+00,  4.5407e+00],\n",
       "         [ 7.2475e+00,  9.0694e+00,  4.9853e+00,  2.3836e+01,  9.7101e+00,\n",
       "           4.5231e+00,  5.6046e+00,  5.3434e+00],\n",
       "         [ 1.0899e+01,  8.6217e+00,  6.4141e+00,  9.7101e+00,  2.8935e+01,\n",
       "           8.7005e+00,  1.0494e+01,  9.8796e+00],\n",
       "         [ 7.3969e+00,  5.7723e+00,  4.3975e+00,  4.5231e+00,  8.7005e+00,\n",
       "           1.8178e+01,  8.0187e+00,  4.1451e+00],\n",
       "         [ 8.2242e+00,  4.3850e+00,  5.3926e+00,  5.6046e+00,  1.0494e+01,\n",
       "           8.0187e+00,  2.6042e+01,  1.0383e+01],\n",
       "         [ 7.1360e+00,  4.7790e+00,  4.5407e+00,  5.3434e+00,  9.8796e+00,\n",
       "           4.1451e+00,  1.0383e+01,  2.4457e+01]]],\n",
       "       grad_fn=<MaskedFillBackward0>)"
      ]
     },
     "execution_count": 21,
     "metadata": {},
     "output_type": "execute_result"
    }
   ],
   "source": [
    "scores.masked_fill_(attn_mask, -1e9)\n",
    "# mask padded area\n",
    "# torch.Size([2, 8, 8])"
   ]
  },
  {
   "cell_type": "markdown",
   "metadata": {},
   "source": [
    "### 3.3. softmax\n",
    "- https://stackoverflow.com/questions/49036993/pytorch-softmax-what-dimension-to-use\n",
    "- https://blog.csdn.net/qq_36097393/article/details/89319643\n",
    "- dim=-1이면 가장 높은 차원 기준 softmax"
   ]
  },
  {
   "cell_type": "code",
   "execution_count": 22,
   "metadata": {},
   "outputs": [
    {
     "name": "stdout",
     "output_type": "stream",
     "text": [
      "torch.Size([2, 8, 8])\n"
     ]
    }
   ],
   "source": [
    "attn_prob = nn.Softmax(dim=-1)(scores) # dim 유지\n",
    "print(attn_prob.size())"
   ]
  },
  {
   "cell_type": "markdown",
   "metadata": {},
   "source": [
    "### 3.4. attn_prov * V "
   ]
  },
  {
   "cell_type": "code",
   "execution_count": 23,
   "metadata": {},
   "outputs": [
    {
     "name": "stdout",
     "output_type": "stream",
     "text": [
      "torch.Size([2, 8, 128])\n"
     ]
    }
   ],
   "source": [
    "context = torch.matmul(attn_prob, V)\n",
    "print(context.shape)"
   ]
  },
  {
   "cell_type": "markdown",
   "metadata": {},
   "source": [
    "# 4. Multi-Head attn\n",
    "- d_hidn = embedding layer 아웃풋의 dim\n",
    "    - embedding dim\n",
    "- d_head = Q, K, V의 dim\n",
    "    - embedding된 input값이\n",
    "- d_hidn > d_head: 연산량 감소하기 위함 eg. 128 > 64"
   ]
  },
  {
   "cell_type": "code",
   "execution_count": 24,
   "metadata": {},
   "outputs": [
    {
     "data": {
      "text/plain": [
       "torch.Size([2, 8, 128])"
      ]
     },
     "execution_count": 24,
     "metadata": {},
     "output_type": "execute_result"
    }
   ],
   "source": [
    "Q = input_vector\n",
    "K = input_vector\n",
    "V = input_vector\n",
    "Q.shape"
   ]
  },
  {
   "cell_type": "markdown",
   "metadata": {},
   "source": [
    "- input을 multi head로 복제"
   ]
  },
  {
   "cell_type": "code",
   "execution_count": 25,
   "metadata": {},
   "outputs": [],
   "source": [
    "batch_size = Q.size(0)\n",
    "d_hidn = 128 # embedding dim\n",
    "d_head = 64 # K, Q, V의 dim\n",
    "n_head = 2\n",
    "\n",
    "# linear feed forward layer\n",
    "W_Q = nn.Linear(d_hidn, n_head * d_head)\n",
    "W_K = nn.Linear(d_hidn, n_head * d_head)\n",
    "W_V = nn.Linear(d_hidn, n_head * d_head)"
   ]
  },
  {
   "cell_type": "markdown",
   "metadata": {},
   "source": [
    "### 4.1. multi-head K, Q, V input"
   ]
  },
  {
   "cell_type": "code",
   "execution_count": 26,
   "metadata": {},
   "outputs": [
    {
     "data": {
      "text/plain": [
       "torch.Size([2, 2, 8, 64])"
      ]
     },
     "execution_count": 26,
     "metadata": {},
     "output_type": "execute_result"
    }
   ],
   "source": [
    "# bs, n_seq, n_head, d_head\n",
    "# torch.Size([2, 8, 2, 64])\n",
    "W_Q(Q).view(batch_size, -1, n_head, d_head).shape\n",
    "# torch.Size([2, 2, 8, 64]) \n",
    "W_Q(Q).view(batch_size, -1, n_head, d_head).transpose(1,2).shape"
   ]
  },
  {
   "cell_type": "code",
   "execution_count": 27,
   "metadata": {},
   "outputs": [
    {
     "data": {
      "text/plain": [
       "torch.Size([2, 2, 8, 64])"
      ]
     },
     "execution_count": 27,
     "metadata": {},
     "output_type": "execute_result"
    }
   ],
   "source": [
    "# (bs, n_head, n_seq, d_head)\n",
    "Qs = W_Q(Q).view(batch_size, -1, n_head, d_head).transpose(1, 2)\n",
    "Ks = W_K(K).view(batch_size, -1, n_head, d_head).transpose(1, 2)\n",
    "Vs = W_V(V).view(batch_size, -1, n_head, d_head).transpose(1, 2)\n",
    "Vs.shape"
   ]
  },
  {
   "cell_type": "markdown",
   "metadata": {},
   "source": [
    "### 4.2. multi-head attn mask"
   ]
  },
  {
   "cell_type": "code",
   "execution_count": 28,
   "metadata": {},
   "outputs": [],
   "source": [
    "# torch.Size([2, 8, 8]) -> torch.size([2, 2, 8, 8])\n",
    "attn_mask = attn_mask.unsqueeze(1).repeat(1, n_head, 1, 1)"
   ]
  },
  {
   "cell_type": "code",
   "execution_count": 29,
   "metadata": {
    "scrolled": true
   },
   "outputs": [],
   "source": [
    "# torch.Size([2, 2, 8, 64]) * torch.Size([2, 2, 64, 8])\n",
    "# output: torch.Size([2, 2, 8, 8])\n",
    "scores = torch.matmul(Qs, Ks.transpose(-1, -2))\n",
    "scores = scores.masked_fill(attn_mask, -np.inf)\n",
    "\n",
    "# bs, n_head, [n_q_seq, n_k_seq]\n",
    "# torch.Size([2, 2, 8, 8])\n",
    "attn_prob = nn.Softmax(dim=-1)(scores)\n",
    "\n",
    "# bs, n_head, n_q_seq, d_v\n",
    "# torch.Size([2, 2, 8, 64])\n",
    "context = torch.matmul(attn_prob, Vs)"
   ]
  },
  {
   "cell_type": "markdown",
   "metadata": {},
   "source": [
    "### 4.3. concat"
   ]
  },
  {
   "cell_type": "code",
   "execution_count": 30,
   "metadata": {},
   "outputs": [],
   "source": [
    "# transpose: bs, n_q_seq, n_head, d_v\n",
    "# view: bs, n_q_seq, n_head * d_v\n",
    "# -> torch.Size([2, 8, 128])\n",
    "context = context\\\n",
    ".transpose(1, 2)\\\n",
    ".contiguous()\\\n",
    ".view(batch_size, -1, n_head * d_head)"
   ]
  },
  {
   "cell_type": "markdown",
   "metadata": {},
   "source": [
    "# 5. output"
   ]
  },
  {
   "cell_type": "code",
   "execution_count": 31,
   "metadata": {},
   "outputs": [],
   "source": [
    "# torch.Size([2, 8, 128])\n",
    "# bs, [n_q_seq, n_hidn] <- embedding된 input size와 동일\n",
    "enc_output = nn.Linear(n_head * d_head, d_hidn)(context)"
   ]
  },
  {
   "cell_type": "markdown",
   "metadata": {},
   "source": [
    "# 6. feedforward\n",
    "### 6.1. 1st linear feedforward"
   ]
  },
  {
   "cell_type": "code",
   "execution_count": 32,
   "metadata": {},
   "outputs": [],
   "source": [
    "conv1 = nn.Conv1d(in_channels=d_hidn, \\\n",
    "                  out_channels=d_hidn * 4, kernel_size=1)"
   ]
  },
  {
   "cell_type": "code",
   "execution_count": 33,
   "metadata": {},
   "outputs": [],
   "source": [
    "# bs, [n_hidn, n_q_seq]\n",
    "# torch.Size([2, 128, 8])\n",
    "enc_output.transpose(1,2).shape\n",
    "\n",
    "# torch.Size([2, 512, 8])\n",
    "enc_output = conv1(enc_output.transpose(1,2))"
   ]
  },
  {
   "cell_type": "markdown",
   "metadata": {},
   "source": [
    "### 6.2. activation"
   ]
  },
  {
   "cell_type": "code",
   "execution_count": 34,
   "metadata": {},
   "outputs": [],
   "source": [
    "enc_output = F.gelu(enc_output)"
   ]
  },
  {
   "cell_type": "markdown",
   "metadata": {},
   "source": [
    "### 6.3. 2nd linear feedforward"
   ]
  },
  {
   "cell_type": "code",
   "execution_count": 35,
   "metadata": {},
   "outputs": [],
   "source": [
    "conv2 = nn.Conv1d(in_channels=d_hidn * 4, \\\n",
    "                  out_channels=d_hidn, \\\n",
    "                  kernel_size=1)\n",
    "# torch.Size([2, 128, 8])\n",
    "enc_output = conv2(enc_output)"
   ]
  },
  {
   "cell_type": "markdown",
   "metadata": {},
   "source": [
    "---"
   ]
  },
  {
   "cell_type": "markdown",
   "metadata": {},
   "source": [
    "# calss\n",
    "# 1. common class"
   ]
  },
  {
   "cell_type": "code",
   "execution_count": null,
   "metadata": {},
   "outputs": [],
   "source": [
    "from types import SimpleNamespace\n",
    "config = dict({\n",
    "    \"n_enc_vocab\": len(vocab),\n",
    "    \"n_dec_vocab\": len(vocab),\n",
    "    \"n_enc_seq\": 256,\n",
    "    \"n_dec_seq\": 256,\n",
    "    \"n_layer\": 6,\n",
    "    \"d_hidn\": 256,\n",
    "    \"i_pad\": 0,\n",
    "    \"d_ff\": 1024,\n",
    "    \"n_head\": 4,\n",
    "    \"d_head\": 64,\n",
    "    \"dropout\": 0.1,\n",
    "    \"layer_norm_epsilon\": 1e-12,\n",
    "    \"n_output\": 2\n",
    "})\n",
    "print(config)\n",
    "config = SimpleNamespace(**config)"
   ]
  },
  {
   "cell_type": "code",
   "execution_count": 37,
   "metadata": {},
   "outputs": [],
   "source": [
    "def get_sinusoid_encoding_table(n_seq, d_hidn):\n",
    "    def cal_angle(position, i_hidn):\n",
    "        return position / np.power(10000, 2 * (i_hidn // 2) / d_hidn)\n",
    "    def get_posi_angle_vec(position):\n",
    "        return [cal_angle(position, i_hidn) for i_hidn in range(d_hidn)]\n",
    "\n",
    "    sinusoid_table = np.array([get_posi_angle_vec(i_seq) for i_seq in range(n_seq)])\n",
    "    sinusoid_table[:, 0::2] = np.sin(sinusoid_table[:, 0::2])  # even index sin \n",
    "    sinusoid_table[:, 1::2] = np.cos(sinusoid_table[:, 1::2])  # odd index cos\n",
    "\n",
    "    return sinusoid_table\n",
    "\n",
    "def get_attn_pad_mask(seq_q, seq_k, i_pad):\n",
    "    \"\"\"\n",
    "    key_vector의 pad열은 모두 0으로 padding\n",
    "    - row: query token\n",
    "    - col: key token\n",
    "    \n",
    "    params\n",
    "    - seq_q, seq_k: [bs, len_seq]\n",
    "    \"\"\"\n",
    "    batch_size, len_q = seq_q.size()\n",
    "    batch_size, len_k = seq_k.size()\n",
    "    pad_attn_mask = seq_k.data.eq(i_pad).unsqueeze(1).expand(batch_size, len_q, len_k)  # key vector에 masking한 것을, len_q만큼 늘려줌(row wise)\n",
    "    return pad_attn_mask\n",
    "\n",
    "def get_attn_decoder_mask(seq):\n",
    "    subsequent_mask = torch.ones_like(seq).unsqueeze(-1).expand(seq.size(0), seq.size(1), seq.size(1))\n",
    "    subsequent_mask = subsequent_mask.triu(diagonal=1) # upper triangular part of a matrix(2-D)\n",
    "    return subsequent_mask"
   ]
  },
  {
   "cell_type": "markdown",
   "metadata": {},
   "source": [
    "### attn pad mask example"
   ]
  },
  {
   "cell_type": "code",
   "execution_count": 76,
   "metadata": {},
   "outputs": [
    {
     "data": {
      "text/plain": [
       "tensor([[1, 2, 1, 0],\n",
       "        [2, 2, 1, 0]])"
      ]
     },
     "execution_count": 76,
     "metadata": {},
     "output_type": "execute_result"
    }
   ],
   "source": [
    "sample_key_seq = torch.randint(0,3, size=(2, 4)) # [bs, q_seq_len]\n",
    "sample_key_seq"
   ]
  },
  {
   "cell_type": "code",
   "execution_count": 77,
   "metadata": {
    "scrolled": true
   },
   "outputs": [
    {
     "data": {
      "text/plain": [
       "tensor([[[1, 2, 1, 0]],\n",
       "\n",
       "        [[2, 2, 1, 0]]])"
      ]
     },
     "execution_count": 77,
     "metadata": {},
     "output_type": "execute_result"
    }
   ],
   "source": [
    "sample_key_seq.unsqueeze(1) # [2,4] -> [2, 1, 4]"
   ]
  },
  {
   "cell_type": "code",
   "execution_count": 80,
   "metadata": {},
   "outputs": [
    {
     "data": {
      "text/plain": [
       "tensor([[[1, 2, 1, 0],\n",
       "         [1, 2, 1, 0],\n",
       "         [1, 2, 1, 0],\n",
       "         [1, 2, 1, 0]],\n",
       "\n",
       "        [[2, 2, 1, 0],\n",
       "         [2, 2, 1, 0],\n",
       "         [2, 2, 1, 0],\n",
       "         [2, 2, 1, 0]]])"
      ]
     },
     "execution_count": 80,
     "metadata": {},
     "output_type": "execute_result"
    }
   ],
   "source": [
    "sample_key_seq.unsqueeze(1).expand(2, 4, 4)"
   ]
  },
  {
   "cell_type": "code",
   "execution_count": 82,
   "metadata": {},
   "outputs": [
    {
     "data": {
      "text/plain": [
       "tensor([[[False, False, False,  True],\n",
       "         [False, False, False,  True],\n",
       "         [False, False, False,  True],\n",
       "         [False, False, False,  True]],\n",
       "\n",
       "        [[False, False, False,  True],\n",
       "         [False, False, False,  True],\n",
       "         [False, False, False,  True],\n",
       "         [False, False, False,  True]]])"
      ]
     },
     "execution_count": 82,
     "metadata": {},
     "output_type": "execute_result"
    }
   ],
   "source": [
    "attn_pad = sample_key_seq.eq(0).unsqueeze(1).expand(2, 4, 4) # attn_pad\n",
    "attn_pad"
   ]
  },
  {
   "cell_type": "code",
   "execution_count": 80,
   "metadata": {},
   "outputs": [],
   "source": [
    "class PoswiseFeedForwardNet(nn.Module):\n",
    "    \"\"\"\n",
    "    variables\n",
    "    - inputs: output of attn layer(attn_outputs)\n",
    "        - shape:[bs, len_query_seq, d_hidn]\n",
    "    return\n",
    "    - output\n",
    "    \"\"\"\n",
    "    def __init__(self, config):\n",
    "        super().__init__()\n",
    "        self.config = config\n",
    "\n",
    "        self.conv1 = nn.Conv1d(in_channels=self.config.d_hidn, out_channels=self.config.d_ff, kernel_size=1)\n",
    "        self.conv2 = nn.Conv1d(in_channels=self.config.d_ff, out_channels=self.config.d_hidn, kernel_size=1)\n",
    "        self.active = F.gelu\n",
    "        self.dropout = nn.Dropout(config.dropout)\n",
    "\n",
    "    def forward(self, inputs):\n",
    "        # (bs, d_ff, n_seq)\n",
    "        output = self.active(self.conv1(inputs.transpose(1, 2)))\n",
    "        # (bs, n_seq, d_hidn)\n",
    "        output = self.conv2(output).transpose(1, 2)\n",
    "        output = self.dropout(output)\n",
    "        # (bs, n_seq, d_hidn)\n",
    "        return output"
   ]
  },
  {
   "cell_type": "markdown",
   "metadata": {},
   "source": [
    "### PoswiseFeedForwardNet example code"
   ]
  },
  {
   "cell_type": "code",
   "execution_count": 130,
   "metadata": {},
   "outputs": [
    {
     "data": {
      "text/plain": [
       "tensor([[[1., 9., 3., 7., 9., 3., 2., 4.],\n",
       "         [4., 4., 1., 2., 4., 5., 1., 9.],\n",
       "         [5., 9., 4., 8., 9., 5., 4., 5.],\n",
       "         [5., 7., 2., 3., 5., 2., 8., 2.]],\n",
       "\n",
       "        [[1., 1., 9., 6., 1., 2., 9., 9.],\n",
       "         [4., 3., 8., 7., 5., 3., 1., 1.],\n",
       "         [5., 6., 7., 3., 5., 8., 7., 1.],\n",
       "         [8., 8., 8., 3., 3., 9., 2., 4.]]])"
      ]
     },
     "execution_count": 130,
     "metadata": {},
     "output_type": "execute_result"
    }
   ],
   "source": [
    "# multihead output: [bs, seq_len, d_hidn]\n",
    "# how to apply 1d conv to NLP in torch: https://gist.github.com/spro/c87cc706625b8a54e604fb1024106556\n",
    "attn_outputs = torch.randint(1, 10, size=[2, 4, 8]).float()\n",
    "attn_outputs"
   ]
  },
  {
   "cell_type": "code",
   "execution_count": 151,
   "metadata": {},
   "outputs": [
    {
     "data": {
      "text/plain": [
       "torch.Size([2, 128, 4])"
      ]
     },
     "execution_count": 151,
     "metadata": {},
     "output_type": "execute_result"
    }
   ],
   "source": [
    "# input dim [bs, d_hidn, seq_len]\n",
    "conv1d_1st = nn.Conv1d(in_channels=8, out_channels=128, kernel_size=1)(attn_outputs.transpose(2, 1))\n",
    "conv1d_1st.shape # [bs, out_dim, seq_len]"
   ]
  },
  {
   "cell_type": "code",
   "execution_count": 155,
   "metadata": {},
   "outputs": [
    {
     "data": {
      "text/plain": [
       "torch.Size([2, 8, 4])"
      ]
     },
     "execution_count": 155,
     "metadata": {},
     "output_type": "execute_result"
    }
   ],
   "source": [
    "conv1d_2nd = nn.Conv1d(in_channels=128, out_channels=8, kernel_size=1)(conv1d_1st)\n",
    "conv1d_2nd.shape # [bs, d_hidn, seq_len]"
   ]
  },
  {
   "cell_type": "code",
   "execution_count": 159,
   "metadata": {},
   "outputs": [
    {
     "data": {
      "text/plain": [
       "torch.Size([2, 4, 8])"
      ]
     },
     "execution_count": 159,
     "metadata": {},
     "output_type": "execute_result"
    }
   ],
   "source": [
    "conv1d_2nd.transpose(2,1).shape # [bs, seq_len, d_hidn]"
   ]
  },
  {
   "cell_type": "code",
   "execution_count": 81,
   "metadata": {},
   "outputs": [],
   "source": [
    "class ScaledDotProductAttention(nn.Module):\n",
    "    \"\"\"\n",
    "    variables\n",
    "    - V, Q: [bs, len_seq, d_hidn]\n",
    "    - attn_prob: [bs, n_head, len_query_seq, len_key_seq]\n",
    "    - context: [bs, n_head, len_query_seq, d_hidn]\n",
    "    calculate\n",
    "    - scores: Q * K.T = [bs, len_seq, d_hidn] * [bs, d_hidn, len_seq]\n",
    "        - shape: [bs, len_seq, len_seq]\n",
    "    - attn_prob: dropout(softmax(score))\n",
    "    - context: torch.matmul(attn_prob, Value vector)\n",
    "    \"\"\"\n",
    "    def __init__(self, config):\n",
    "        super().__init__()\n",
    "        self.config = config\n",
    "        self.dropout = nn.Dropout(config.dropout)\n",
    "        self.scale = 1 / (self.config.d_head ** 0.5)\n",
    "    \n",
    "    def forward(self, Q, K, V, attn_mask):\n",
    "        scores = torch.matmul(Q, K.transpose(-1, -2)).mul_(self.scale)\n",
    "        scores.masked_fill_(attn_mask, -1e9) # softmax에서 sum!=0 위해 -1e9\n",
    "        \n",
    "        attn_prob = nn.Softmax(dim=-1)(scores)\n",
    "        attn_prob = self.dropout(attn_prob)\n",
    "        \n",
    "        context = torch.matmul(attn_prob, V)\n",
    "        # (bs, n_head, n_q_seq, d_v), (bs, n_head, n_q_seq, n_v_seq)\n",
    "        return context, attn_prob"
   ]
  },
  {
   "cell_type": "markdown",
   "metadata": {},
   "source": [
    "### scaled dot example"
   ]
  },
  {
   "cell_type": "code",
   "execution_count": 95,
   "metadata": {
    "scrolled": true
   },
   "outputs": [
    {
     "data": {
      "text/plain": [
       "tensor([[[False, False, False,  True],\n",
       "         [False, False, False,  True],\n",
       "         [False, False, False,  True],\n",
       "         [False, False, False,  True]],\n",
       "\n",
       "        [[False, False, False,  True],\n",
       "         [False, False, False,  True],\n",
       "         [False, False, False,  True],\n",
       "         [False, False, False,  True]]])"
      ]
     },
     "execution_count": 95,
     "metadata": {},
     "output_type": "execute_result"
    }
   ],
   "source": [
    "attn_pad # [bs, q_seq_len, k_seq_len]"
   ]
  },
  {
   "cell_type": "code",
   "execution_count": 98,
   "metadata": {},
   "outputs": [
    {
     "data": {
      "text/plain": [
       "tensor([[[4., 8., 6., 5.],\n",
       "         [2., 9., 7., 2.],\n",
       "         [5., 9., 9., 8.],\n",
       "         [9., 9., 4., 4.]],\n",
       "\n",
       "        [[9., 9., 8., 7.],\n",
       "         [4., 8., 6., 8.],\n",
       "         [8., 3., 2., 7.],\n",
       "         [6., 8., 7., 5.]]])"
      ]
     },
     "execution_count": 98,
     "metadata": {},
     "output_type": "execute_result"
    }
   ],
   "source": [
    "scores = torch.randint_like(attn_pad, 2, 10, dtype=torch.float)\n",
    "scores"
   ]
  },
  {
   "cell_type": "code",
   "execution_count": 99,
   "metadata": {},
   "outputs": [
    {
     "data": {
      "text/plain": [
       "tensor([[[ 4.0000e+00,  8.0000e+00,  6.0000e+00, -1.0000e+09],\n",
       "         [ 2.0000e+00,  9.0000e+00,  7.0000e+00, -1.0000e+09],\n",
       "         [ 5.0000e+00,  9.0000e+00,  9.0000e+00, -1.0000e+09],\n",
       "         [ 9.0000e+00,  9.0000e+00,  4.0000e+00, -1.0000e+09]],\n",
       "\n",
       "        [[ 9.0000e+00,  9.0000e+00,  8.0000e+00, -1.0000e+09],\n",
       "         [ 4.0000e+00,  8.0000e+00,  6.0000e+00, -1.0000e+09],\n",
       "         [ 8.0000e+00,  3.0000e+00,  2.0000e+00, -1.0000e+09],\n",
       "         [ 6.0000e+00,  8.0000e+00,  7.0000e+00, -1.0000e+09]]])"
      ]
     },
     "execution_count": 99,
     "metadata": {},
     "output_type": "execute_result"
    }
   ],
   "source": [
    "scores.masked_fill_(attn_pad, -1e9)"
   ]
  },
  {
   "cell_type": "code",
   "execution_count": 101,
   "metadata": {},
   "outputs": [
    {
     "data": {
      "text/plain": [
       "tensor([[[1.5876e-02, 8.6681e-01, 1.1731e-01, 0.0000e+00],\n",
       "         [8.0254e-04, 8.8009e-01, 1.1911e-01, 0.0000e+00],\n",
       "         [9.0747e-03, 4.9546e-01, 4.9546e-01, 0.0000e+00],\n",
       "         [4.9832e-01, 4.9832e-01, 3.3577e-03, 0.0000e+00]],\n",
       "\n",
       "        [[4.2232e-01, 4.2232e-01, 1.5536e-01, 0.0000e+00],\n",
       "         [1.5876e-02, 8.6681e-01, 1.1731e-01, 0.0000e+00],\n",
       "         [9.9087e-01, 6.6764e-03, 2.4561e-03, 0.0000e+00],\n",
       "         [9.0031e-02, 6.6524e-01, 2.4473e-01, 0.0000e+00]]])"
      ]
     },
     "execution_count": 101,
     "metadata": {},
     "output_type": "execute_result"
    }
   ],
   "source": [
    "attn_prob = nn.Softmax(dim=-1)(scores.float())\n",
    "attn_prob"
   ]
  },
  {
   "cell_type": "code",
   "execution_count": 108,
   "metadata": {},
   "outputs": [
    {
     "data": {
      "text/plain": [
       "tensor([[[2., 5., 9., 6.],\n",
       "         [2., 9., 5., 5.],\n",
       "         [5., 4., 6., 5.],\n",
       "         [8., 2., 7., 4.]],\n",
       "\n",
       "        [[4., 9., 6., 8.],\n",
       "         [7., 6., 4., 6.],\n",
       "         [6., 4., 3., 3.],\n",
       "         [6., 5., 6., 7.]]])"
      ]
     },
     "execution_count": 108,
     "metadata": {},
     "output_type": "execute_result"
    }
   ],
   "source": [
    "V = torch.randint(2, 10, size=(2,4,4)).float()\n",
    "V"
   ]
  },
  {
   "cell_type": "code",
   "execution_count": 119,
   "metadata": {},
   "outputs": [
    {
     "data": {
      "text/plain": [
       "tensor([[[0.0000, 1.7336, 0.2346, 0.0000],\n",
       "         [0.0000, 1.7602, 0.0000, 0.0000],\n",
       "         [0.0181, 0.9909, 0.0000, 0.0000],\n",
       "         [0.0000, 0.0000, 0.0067, 0.0000]],\n",
       "\n",
       "        [[0.8446, 0.0000, 0.0000, 0.0000],\n",
       "         [0.0000, 0.0000, 0.0000, 0.0000],\n",
       "         [1.9817, 0.0134, 0.0000, 0.0000],\n",
       "         [0.0000, 1.3305, 0.4895, 0.0000]]])"
      ]
     },
     "execution_count": 119,
     "metadata": {},
     "output_type": "execute_result"
    }
   ],
   "source": [
    "nn.Dropout()(attn_prob)"
   ]
  },
  {
   "cell_type": "code",
   "execution_count": 120,
   "metadata": {},
   "outputs": [
    {
     "data": {
      "text/plain": [
       "tensor([[[ 0.0000,  0.0000,  0.0000,  0.0000],\n",
       "         [ 0.0000,  0.0000,  0.0000,  0.0000],\n",
       "         [ 6.9365, 12.8820, 10.9002,  9.9093],\n",
       "         [ 1.9933,  4.9832,  8.9698,  5.9799]],\n",
       "\n",
       "        [[ 5.2429,  8.8446,  6.0000,  7.6893],\n",
       "         [ 1.5347,  1.2243,  0.8944,  0.9579],\n",
       "         [ 0.0000,  0.0000,  0.0000,  0.0000],\n",
       "         [ 9.3134,  7.9829,  5.3219,  7.9829]]])"
      ]
     },
     "execution_count": 120,
     "metadata": {},
     "output_type": "execute_result"
    }
   ],
   "source": [
    "context = torch.matmul(nn.Dropout()(attn_prob), V)\n",
    "context"
   ]
  },
  {
   "cell_type": "code",
   "execution_count": 79,
   "metadata": {},
   "outputs": [],
   "source": [
    "class MultiHeadAttention(nn.Module):\n",
    "    \"\"\"\n",
    "    weight mat\n",
    "    - W_Q, W_K, W_K: [d_hidn, n_head*d_head]\n",
    "    \n",
    "    vectors\n",
    "    - q_s, k_s, v_s: [bs, n_head, seq_len, d_head]\n",
    "    \n",
    "    calculate\n",
    "    - eg. W_Q(Q): Q * W_Q = [bs, seq_len, d_hidn] * [d_hidn, n_head*d_head] \n",
    "                            = [bs, seq_len, n_head*d_head] \n",
    "                            <- ([seq_len * d_head] mat = embedded Q가 n_head만큼 있음) * bs\n",
    "    - eg. W_Q(Q).view(bs, -1, n_head, d_head).transpose(1, 2) = (bs, n_head, -1=seq_len, d_head) \n",
    "    \n",
    "    return\n",
    "    - output: [bs, len_query_seq, d_hidn]\n",
    "    - attn_prob: [bs, n_head, len_query_seq, len_key_seq]\n",
    "    \"\"\"\n",
    "    def __init__(self, config):\n",
    "        super().__init__()\n",
    "        self.config = config\n",
    "        \n",
    "        # n_head의 K, Q, V 한번에 생성\n",
    "        self.W_Q = nn.Linear(self.config.d_hidn, self.config.n_head * self.config.d_head)\n",
    "        self.W_K = nn.Linear(self.config.d_hidn, self.config.n_head * self.config.d_head)\n",
    "        self.W_V = nn.Linear(self.config.d_hidn, self.config.n_head * self.config.d_head)\n",
    "        self.scaled_dot_attn = ScaledDotProductAttention(self.config)\n",
    "        self.linear = nn.Linear(self.config.n_head * self.config.d_head, self.config.d_hidn)\n",
    "        self.dropout = nn.Dropout(config.dropout)\n",
    "    # n_head의 K, Q, V 한번에 생성\n",
    "    def forward(self, Q, K, V, attn_mask):\n",
    "        batch_size = Q.size(0)\n",
    "        q_s = self.W_Q(Q).view(batch_size, -1, self.config.n_head, self.config.d_head).transpose(1,2)\n",
    "        k_s = self.W_K(K).view(batch_size, -1, self.config.n_head, self.config.d_head).transpose(1,2)\n",
    "        v_s = self.W_V(V).view(batch_size, -1, self.config.n_head, self.config.d_head).transpose(1,2)\n",
    "\n",
    "        attn_mask = attn_mask.unsqueeze(1).repeat(1, self.config.n_head, 1, 1)\n",
    "\n",
    "        context, attn_prob = self.scaled_dot_attn(q_s, k_s, v_s, attn_mask)\n",
    "        context = context.transpose(1, 2).contiguous().view(batch_size, -1, self.config.n_head * self.config.d_head) # [bs, seq_len, n_head * d_head]\n",
    "        output = self.linear(context) # 각 head의 output은 position wise sum이므로 해당 calculate 가능\n",
    "        output = self.dropout(output)\n",
    "        \n",
    "        return output, attn_prob"
   ]
  },
  {
   "cell_type": "markdown",
   "metadata": {},
   "source": [
    "### multihead forward part example\n",
    "- eg.1"
   ]
  },
  {
   "cell_type": "code",
   "execution_count": null,
   "metadata": {},
   "outputs": [],
   "source": [
    "# [bs, len_seq, embed_dim=d_hidn]\n",
    "input_vector.shape"
   ]
  },
  {
   "cell_type": "code",
   "execution_count": 54,
   "metadata": {},
   "outputs": [
    {
     "data": {
      "text/plain": [
       "torch.Size([2, 8, 1024])"
      ]
     },
     "execution_count": 54,
     "metadata": {},
     "output_type": "execute_result"
    }
   ],
   "source": [
    "Q = input_vector # [bs, seq_len, d_hidn]\n",
    "Qs = nn.Linear(in_features=128, out_features=8*128)(Q)\n",
    "Qs.shape # [bs, seq_len, n_head*d_hidn]"
   ]
  },
  {
   "cell_type": "markdown",
   "metadata": {},
   "source": [
    "- eg.2: context vector 변환\n",
    "    - reshape & transpose했을 때 `[19, 23,  7, 92, 66, 10, 15, 73, 19,  5, 81, 80, 49, 92, 79]` 변화\n"
   ]
  },
  {
   "cell_type": "code",
   "execution_count": 70,
   "metadata": {},
   "outputs": [
    {
     "data": {
      "text/plain": [
       "array([[[19, 23,  7, 92, 66, 10, 15, 73, 19,  5, 81, 80, 49, 92, 79],\n",
       "        [29, 78, 13, 54, 29, 49, 56, 55,  5, 47, 87, 92, 34, 18, 75],\n",
       "        [72, 68, 10, 57, 34, 47, 46, 63,  3, 49, 40, 87, 79, 92, 41],\n",
       "        [ 5, 96, 76, 14, 73, 64, 90, 41, 69, 18, 95, 75, 96, 72, 30]],\n",
       "\n",
       "       [[91, 42, 91, 98,  1, 17, 64, 33, 35, 26,  2, 94, 33, 23, 53],\n",
       "        [43, 61, 49, 26, 86, 10, 61, 90, 89, 24, 68, 21, 28, 12, 64],\n",
       "        [57, 68, 77, 74, 10,  3, 99, 29, 81, 97, 24, 65, 63, 91, 73],\n",
       "        [93,  1, 47, 60, 90, 49, 21, 90, 96, 41, 29, 53, 59, 57, 42]]])"
      ]
     },
     "execution_count": 70,
     "metadata": {},
     "output_type": "execute_result"
    }
   ],
   "source": [
    "A = np.random.randint(1, 100, size=(2,4,3*5)) # [bs, seq_len, n_head * d_head]\n",
    "A"
   ]
  },
  {
   "cell_type": "code",
   "execution_count": 73,
   "metadata": {
    "scrolled": false
   },
   "outputs": [
    {
     "data": {
      "text/plain": [
       "array([[[[19, 23,  7, 92, 66],\n",
       "         [10, 15, 73, 19,  5],\n",
       "         [81, 80, 49, 92, 79]],\n",
       "\n",
       "        [[29, 78, 13, 54, 29],\n",
       "         [49, 56, 55,  5, 47],\n",
       "         [87, 92, 34, 18, 75]],\n",
       "\n",
       "        [[72, 68, 10, 57, 34],\n",
       "         [47, 46, 63,  3, 49],\n",
       "         [40, 87, 79, 92, 41]],\n",
       "\n",
       "        [[ 5, 96, 76, 14, 73],\n",
       "         [64, 90, 41, 69, 18],\n",
       "         [95, 75, 96, 72, 30]]],\n",
       "\n",
       "\n",
       "       [[[91, 42, 91, 98,  1],\n",
       "         [17, 64, 33, 35, 26],\n",
       "         [ 2, 94, 33, 23, 53]],\n",
       "\n",
       "        [[43, 61, 49, 26, 86],\n",
       "         [10, 61, 90, 89, 24],\n",
       "         [68, 21, 28, 12, 64]],\n",
       "\n",
       "        [[57, 68, 77, 74, 10],\n",
       "         [ 3, 99, 29, 81, 97],\n",
       "         [24, 65, 63, 91, 73]],\n",
       "\n",
       "        [[93,  1, 47, 60, 90],\n",
       "         [49, 21, 90, 96, 41],\n",
       "         [29, 53, 59, 57, 42]]]])"
      ]
     },
     "execution_count": 73,
     "metadata": {},
     "output_type": "execute_result"
    }
   ],
   "source": [
    "A.reshape(2,-1,3,5) # [bs, seq_len, n_head, d_head]"
   ]
  },
  {
   "cell_type": "code",
   "execution_count": 78,
   "metadata": {
    "scrolled": true
   },
   "outputs": [
    {
     "data": {
      "text/plain": [
       "array([[[[19, 23,  7, 92, 66],\n",
       "         [29, 78, 13, 54, 29],\n",
       "         [72, 68, 10, 57, 34],\n",
       "         [ 5, 96, 76, 14, 73]],\n",
       "\n",
       "        [[10, 15, 73, 19,  5],\n",
       "         [49, 56, 55,  5, 47],\n",
       "         [47, 46, 63,  3, 49],\n",
       "         [64, 90, 41, 69, 18]],\n",
       "\n",
       "        [[81, 80, 49, 92, 79],\n",
       "         [87, 92, 34, 18, 75],\n",
       "         [40, 87, 79, 92, 41],\n",
       "         [95, 75, 96, 72, 30]]],\n",
       "\n",
       "\n",
       "       [[[91, 42, 91, 98,  1],\n",
       "         [43, 61, 49, 26, 86],\n",
       "         [57, 68, 77, 74, 10],\n",
       "         [93,  1, 47, 60, 90]],\n",
       "\n",
       "        [[17, 64, 33, 35, 26],\n",
       "         [10, 61, 90, 89, 24],\n",
       "         [ 3, 99, 29, 81, 97],\n",
       "         [49, 21, 90, 96, 41]],\n",
       "\n",
       "        [[ 2, 94, 33, 23, 53],\n",
       "         [68, 21, 28, 12, 64],\n",
       "         [24, 65, 63, 91, 73],\n",
       "         [29, 53, 59, 57, 42]]]])"
      ]
     },
     "execution_count": 78,
     "metadata": {},
     "output_type": "execute_result"
    }
   ],
   "source": [
    "np.transpose(A.reshape(2,-1,3,5), axes=[0,2,1,3]) # [bs, n_head, seq_len, d_head]"
   ]
  },
  {
   "cell_type": "markdown",
   "metadata": {},
   "source": [
    "# 2. encoder clasas"
   ]
  },
  {
   "cell_type": "code",
   "execution_count": 82,
   "metadata": {},
   "outputs": [],
   "source": [
    "class EncoderLayer(nn.Module):\n",
    "    \"\"\"\n",
    "    variables\n",
    "    - attn_outputs: [bs, lne_query_seq, d_hidn]\n",
    "    - ffn_outputs: [bs, lne_query_seq, d_hidn]\n",
    "    \"\"\"\n",
    "    def __init__(self, config):\n",
    "        super().__init__()\n",
    "        self.config = config\n",
    "\n",
    "        self.self_attn = MultiHeadAttention(self.config)\n",
    "        self.layer_norm1 = nn.LayerNorm(self.config.d_hidn, eps=self.config.layer_norm_epsilon)\n",
    "        self.pos_ffn = PoswiseFeedForwardNet(self.config)\n",
    "        self.layer_norm2 = nn.LayerNorm(self.config.d_hidn, eps=self.config.layer_norm_epsilon)\n",
    "    \n",
    "    def forward(self, inputs, attn_mask):\n",
    "        att_outputs, attn_prob = self.self_attn(inputs, inputs, inputs, attn_mask)\n",
    "        att_outputs = self.layer_norm1(inputs + att_outputs)\n",
    "        \n",
    "        ffn_outputs = self.pos_ffn(att_outputs)\n",
    "        ffn_outputs = self.layer_norcm2(ffn_outputs + att_outputs)\n",
    "        \n",
    "        return ffn_outputs, attn_prob"
   ]
  },
  {
   "cell_type": "code",
   "execution_count": 83,
   "metadata": {},
   "outputs": [],
   "source": [
    "class Encoder(nn.Module):\n",
    "    \"\"\"\n",
    "    variable\n",
    "    - outputs: embeded output; [bs, seq_len, d_hidn];\n",
    "    - final outputs: result context vector of attn layers; [bs, seq_len, d_hidn];\n",
    "    - attn_mask: [bs, seq_q_len, seq_k_len]\n",
    "    - attn_prob: [bs, seq_q_len, d_hidn]\n",
    "    \"\"\"\n",
    "    def __init__(self, config):\n",
    "        super().__init__()\n",
    "        self.config = config\n",
    "\n",
    "        self.enc_emb = nn.Embedding(self.config.n_enc_vocab, self.config.d_hidn)\n",
    "        sinusoid_table = torch.FloatTensor(get_sinusoid_encoding_table(self.config.n_enc_seq + 1, self.config.d_hidn))\n",
    "        self.pos_emb = nn.Embedding.from_pretrained(sinusoid_table, freeze=True)\n",
    "\n",
    "        self.layers = nn.ModuleList([EncoderLayer(self.config) for _ in range(self.config.n_layer)])\n",
    "    \n",
    "    def forward(self, inputs):\n",
    "        positions = torch.arange(inputs.size(1), device=inputs.device, dtype=inputs.dtype).expand(inputs.size(0), inputs.size(1)).contiguous() + 1\n",
    "        pos_mask = inputs.eq(self.config.i_pad)\n",
    "        positions.masked_fill_(pos_mask, 0)\n",
    "\n",
    "        outputs = self.enc_emb(inputs) + self.pos_emb(positions)\n",
    "        \n",
    "        attn_mask = get_attn_pad_mask(inputs, inputs, self.config.i_pad)\n",
    "\n",
    "        attn_probs = []\n",
    "        for layer in self.layers:\n",
    "            outputs, attn_prob = layer(outputs, attn_mask) # outputs = ffn_outputs\n",
    "            attn_probs.append(attn_prob)\n",
    "        return outputs, attn_probs"
   ]
  },
  {
   "cell_type": "markdown",
   "metadata": {},
   "source": [
    "### position example"
   ]
  },
  {
   "cell_type": "code",
   "execution_count": 170,
   "metadata": {},
   "outputs": [
    {
     "data": {
      "text/plain": [
       "tensor([0, 1, 2, 3])"
      ]
     },
     "execution_count": 170,
     "metadata": {},
     "output_type": "execute_result"
    }
   ],
   "source": [
    "inputs = torch.randint(1,10,size=(2, 4, 8))\n",
    "torch.arange(inputs.size(1))"
   ]
  },
  {
   "cell_type": "code",
   "execution_count": 179,
   "metadata": {},
   "outputs": [
    {
     "data": {
      "text/plain": [
       "tensor([[1, 2, 3, 4],\n",
       "        [1, 2, 3, 4]])"
      ]
     },
     "execution_count": 179,
     "metadata": {},
     "output_type": "execute_result"
    }
   ],
   "source": [
    "torch.arange(inputs.size(1)).expand(2, 4).contiguous()+1"
   ]
  },
  {
   "cell_type": "markdown",
   "metadata": {},
   "source": [
    "# 8. Decoder class"
   ]
  },
  {
   "cell_type": "code",
   "execution_count": 84,
   "metadata": {},
   "outputs": [],
   "source": [
    "class DecoderLayer(nn.Module):\n",
    "    \"\"\"\n",
    "    1st attn layer: self attention layer\n",
    "    - Q, K, V = decoder inputs\n",
    "    2nd attn layer: decoder encoder attention layer\n",
    "    - Q, K, V = 1st attn layer outputs, encoder outputs, encoder outputs\n",
    "    \n",
    "    MultiHeadAttention return\n",
    "    - attn_outputs: [bs, seq_q_len, d_hidn]\n",
    "    - attn_prob: [bs, n_head, seq_q_len, ]\n",
    "    \"\"\"\n",
    "    def __init__(self, config):\n",
    "        super().__init__()\n",
    "        self.config = config\n",
    "        \n",
    "        self.self_attn = MultiHeadAttention(self.config)\n",
    "        self.layer_norm1 = nn.LayerNorm(self.config.d_hidn, eps=self.config.layer_norm_epsilon)\n",
    "        \n",
    "        self.dec_enc_attn = MultiHeadAttention(self.config)\n",
    "        self.layer_norm2 = nn.LayerNorm(self.config.d_hidn, eps=self.config.layer_norm.epsilon)\n",
    "        \n",
    "        self.pos_feedforward = PoswiseFeedForwardNet(self.config)\n",
    "        self.layer_norm3 = nn.LayerNorm(self.config.d_hidn, eps=self.config.layer_norm_epsilon)\n",
    "        \n",
    "    def forward(self, dec_inputs, enc_outputs, self_attn_mask, dec_enc_attn_mask):\n",
    "        self_attn_outputs, self_attn_prob = self.self_attn(dec_inputs, dec_inputs, dec_inputs, self_attn_mask) \n",
    "        self_attn_outputs = self.layer_norm1(dec_inputs + self_attn_outputs) # LaterNorm(residual)\n",
    "        \n",
    "        dec_enc_attn_outputs, dec_enc_attn_prob = self.dec_enc_attn(self_attn_outputs, enc_outputs, enc_outputs, dec_enc_attn_mask)\n",
    "        dec_enc_attn_outputs = self.layer_norm2(self_attn_outputs + dec_enc_attn_outputs) # LaterNorm(residual)\n",
    "        \n",
    "        # (bs, n_dec_seq, d_hidn)\n",
    "        ffn_outputs = self.pos_feedforward(dec_enc_attn_outputs)\n",
    "        ffn_outputs = self.layer_norm3(dec_enc_attn_outputs + ffn_outputs)\n",
    "        \n",
    "        # (bs, n_dec_seq, d_hidn), (bs, n_head, n_dec_seq, n_dec_seq), (bs, n_head, n_dec_seq, n_enc_seq)\n",
    "        return ffn_outputs, self_attn_prob, dec_enc_attn_prob"
   ]
  },
  {
   "cell_type": "code",
   "execution_count": 85,
   "metadata": {},
   "outputs": [],
   "source": [
    "class Decoder(nn.Module):\n",
    "    def __init__(self, config):\n",
    "        super().__init__()\n",
    "        self.config = config\n",
    "        \n",
    "        self.dec_emb = nn.Embedding(self.config.n_dec_vocab, self.config.d_hidn)\n",
    "        sinusoid_table = torch.FloatTensor(get_sinusoid_encoding_table(self.config.n_dec_seq + 1, self.config.d_hidn))\n",
    "        self.pos_emb = nn.Embedding.from_pretrained(sinusoid_table, freeze=True)\n",
    "        self.layers = nn.ModuleList([DecoderLayer(self.config) for _ in range(self.config.n_layer)])\n",
    "        \n",
    "    def forward(self, dec_inputs, enc_inputs, enc_outputs):\n",
    "        position = torch.arange(dec_inputs.size(1), device=dec_inputs.device, dtype=dec_inputs.dtype)\\\n",
    "                        .expands(dec_inputs.size(0), dec_inputs.size(1)).contiguouse() + 1\n",
    "        pos_mask = dec_inputs.eq(self.config.i_pad)\n",
    "        positions.masked_fill_(pos_mask, 0)\n",
    "        \n",
    "        # (bs, n_dec_seq, d_hidn)\n",
    "        dec_outputs = self.dec_emb(dec_inputs) + self.pos_emb(positions)\n",
    "        \n",
    "        # (bs, n_dec_seq, n_dec_seq)\n",
    "        dec_attn_pad_mask = get_attn_pad_mask(dec_inputs, dec_inputs, self.config.i_pad) # get_attn_pad_mask(seq_q, seq_k, i_pad)\n",
    "        dec_attn_decoder_mask = get_attn_decoder_mask(dec_inputs) # 대각선 기준 위 mask\n",
    "        \n",
    "        dec_self_attn_mask = torch.gt((dec_attn_pad_mask + dec_attn_decoder_mask), 0)\n",
    "        dec_enc_attn_mask = get_attn_pad_mask(dec_inputs, enc_inputs, self.config.i_pad)\n",
    "        \n",
    "        self_attn_probs, dec_enc_attn_probs = [], []\n",
    "        for layer in self.layers:\n",
    "            # (bs, n_dec_seq, d_hidn), (bs, n_dec_seq, n_dec_seq), (bs, d_dec_seq, n_enc_seq)\n",
    "            dec_outputs, self_attn_prob, dec_enc_attn_prob = layer(dec_outputs, enc_outputs, dec_self_attn_mask, dec_enc_attn_mask)\n",
    "            self_attn_probs.append(self_attn_prob)\n",
    "            dec_enc_attn_probs.append(dec_enc_attn_prob)\n",
    "        return dec_outputs, self_attn_probs, dec_enc_attn_probs"
   ]
  },
  {
   "cell_type": "code",
   "execution_count": 86,
   "metadata": {},
   "outputs": [],
   "source": [
    "class Transformer(nn.Module):\n",
    "    def __init__(self, config):\n",
    "        super().__init__()\n",
    "        self.config = config \n",
    "        \n",
    "        self.encoder = Encoder(self.config)\n",
    "        self.decoder = Decoder(self.config)\n",
    "        \n",
    "    def forward(self, enc_inputs, dec_inputs):\n",
    "        # (bs, n_enc_seq, d_hidn), (bs, n_head, n_enc_seq, n_enc_seq)\n",
    "        enc_outputs, enc_self_attn_probs = self.encoder(enc_inputs)\n",
    "        # (bs, n_seq, d_hidn), (bs, n_head, n_dec_seq, n_dec_seq), (bs, n_head, n_dec_seq, n_enc_seq)\n",
    "        dec_outputs, dec_self_attn_probs, dec_enc_attn_probs = self.decoder(dec_inputs, enc_inputs, enc_outputs)\n",
    "        # (bs, n_dec_seq, n_dec_vocab), (bs, n_head, n_enc_seq, n_enc_seq), (bs, n_head, n_dec_seq, n_dec_seq), (bs, n_head, n_dec_seq, n_enc_seq)\n",
    "        return dec_outputs, enc_self_attn_probs, dec_self_attn_probs, dec_enc_attn_probs"
   ]
  },
  {
   "cell_type": "markdown",
   "metadata": {},
   "source": [
    "# 8. Naver movie clf"
   ]
  },
  {
   "cell_type": "code",
   "execution_count": 87,
   "metadata": {},
   "outputs": [],
   "source": [
    "class MovieClf(nn.Module):\n",
    "    def __init__(self, config):\n",
    "        super().__init__()\n",
    "        self.config = config\n",
    "        self.transformer = Transformer(self.config)\n",
    "        self.projection = nn.Linear(self.config.d_hidn, self.config.n_output, bias=False)\n",
    "        \n",
    "    def forward(self, enc_inputs, dec_inputs):\n",
    "        dec_outputs, ence_self_attn_probs, dec_self_attn_probs, dec_enc_attn_probs = self.transformer(enc_inputs, dec_inputs)\n",
    "        dec_outputs, _ = torch.max(dec_outputs, dim=1)\n",
    "        logit = self.projection(dec_outputs)\n",
    "        \n",
    "        return logits, enc_self_attn_probs, dec_self_attn_probs, dec_enc_attn_probs"
   ]
  },
  {
   "cell_type": "markdown",
   "metadata": {},
   "source": [
    "- 데이터셋\n",
    "    - https://pytorch.org/tutorials/beginner/data_loading_tutorial.html"
   ]
  },
  {
   "cell_type": "code",
   "execution_count": 88,
   "metadata": {},
   "outputs": [],
   "source": [
    "fn = 'ratings_test.txt'\n",
    "data = []\n",
    "with open(fn) as f:\n",
    "    while True:\n",
    "        line = f.readline()\n",
    "        if not line: \n",
    "            break\n",
    "        _, t, l = line.split('\\t')\n",
    "        l = l.split('\\n')[0]\n"
   ]
  },
  {
   "cell_type": "code",
   "execution_count": 89,
   "metadata": {},
   "outputs": [],
   "source": [
    "labels = []\n",
    "sentence = []\n",
    "d = []\n",
    "\n",
    "line_cnt = 0\n",
    "fn = 'ratings_test.txt'\n",
    "data = []\n",
    "with open(fn) as f:\n",
    "    while True:\n",
    "        line = f.readline()\n",
    "        d.append(line)\n",
    "        line_cnt += 1\n",
    "        if line_cnt == 1:\n",
    "            continue\n",
    "        if not line: \n",
    "            break\n",
    "        _, t, l = line.split('\\t')\n",
    "        l = l.split('\\n')[0]\n",
    "        labels.append(int(l))\n",
    "        sentence.append(t)"
   ]
  },
  {
   "cell_type": "code",
   "execution_count": 90,
   "metadata": {},
   "outputs": [],
   "source": [
    "class MovieDataset(torch.utils.data.Dataset):\n",
    "    def __init__(self, vocab, infile):\n",
    "        self.vocab = vocab\n",
    "        self.labels = []\n",
    "        self.sentences = []\n",
    "\n",
    "        line_cnt = 0\n",
    "        fn = 'ratings_test.txt'\n",
    "        with open(fn) as f:\n",
    "            while True:\n",
    "                line = f.readline()\n",
    "                line_cnt += 1\n",
    "                if line_cnt == 1:\n",
    "                    continue\n",
    "                if not line: \n",
    "                    break\n",
    "                _, t, l = line.split('\\t')\n",
    "                l = l.split('\\n')[0]\n",
    "                self.labels.append(int(l))\n",
    "                self.sentences.append(t)\n",
    "        \n",
    "    def __len__(self):\n",
    "        assert len(self.labels) == len(self.sentences)\n",
    "        return len(self.labels)\n",
    "    \n",
    "    def __getitem__(self, item):\n",
    "        return (torch.tensor(self.labels[item]), torch.tensor(self.sentences[item]), torch.tensor([self.vocab.piece_to_id(\"[BOS]\")]))"
   ]
  },
  {
   "cell_type": "code",
   "execution_count": 91,
   "metadata": {},
   "outputs": [],
   "source": [
    "def custom_collate_fn(inputs):\n",
    "    labels, enc_inputs, dec_inputs = list(zip(*inputs))\n",
    "    enc_inputs = torch.nn.utils.rnn.pad_sequence(enc_inputs, batch_first=True, padding_value=0)\n",
    "    dec_inputs = torch.nn.utils.rnn.pad_sequence(dec_inputs, batch_first=True, padding_value=0)\n",
    "    batch = [\n",
    "        torch.stack(labels, dim=0),\n",
    "        enc_inputs,\n",
    "        dec_inputs\n",
    "    ]\n",
    "    return batch"
   ]
  },
  {
   "cell_type": "code",
   "execution_count": 92,
   "metadata": {},
   "outputs": [],
   "source": [
    "batch_size = 128\n",
    "fn =  'ratings_test.txt'\n",
    "train_dataset = MovieDataset(vocab, fn)\n",
    "train_loader = torch.utils.data.DataLoader(train_dataset, batch_size=batch_size, shuffle=True, collate_fn=custom_collate_fn)\n",
    "\n",
    "fn = 'ratings_test.txt'\n",
    "test_dataset = MovieDataset(vocab, fn)\n",
    "test_loader = torch.utils.data.DataLoader(test_dataset, batch_size=batch_size, shuffle=False, collate_fn=custom_collate_fn)"
   ]
  },
  {
   "cell_type": "markdown",
   "metadata": {},
   "source": [
    "# 9. train\n",
    "- https://discuss.pytorch.org/t/model-eval-vs-with-torch-no-grad/19615/32"
   ]
  },
  {
   "cell_type": "code",
   "execution_count": 93,
   "metadata": {},
   "outputs": [],
   "source": [
    "def eval_epoch(config, model, data_loader):\n",
    "    matchs = []\n",
    "    model.eval()\n",
    "    \n",
    "    n_word_total = 0\n",
    "    n_correct_total = 0\n",
    "    for i, value in enumerate(data_loader):\n",
    "        labels, enc_inputs, dec_inputs = map(lambda x: x.to(config.device), value) # cpu/gpu tensor\n",
    "        outputs = model(enc_inputs, dec_inputs)\n",
    "        logits = outputs[0]\n",
    "        _, idx = logits.max(dim=1) # return val, idx\n",
    "        match = torch.eq(idx, labels).detach() # detach: \"Returns a new Tensor, detached from the current graph.\"\"\n",
    "        matchs.extend(match.cpu())\n",
    "        acc = np.sum(matchs) / len(matchs) if 0 < len(matchs) else 0\n",
    "    return np.sum(matchs) / len(matchs) if 0 < len(matchs) else 0"
   ]
  },
  {
   "cell_type": "code",
   "execution_count": 94,
   "metadata": {},
   "outputs": [],
   "source": [
    "def train_model(config, epoch, model, criterion, optimizer, train_loader):\n",
    "    loss_ls = []\n",
    "    model.train()\n",
    "    \n",
    "    for i, value in enumerate(train_loader):\n",
    "        labels, enc_inputs, dec_inputs = map(lambda x: x.to(config.device), value)\n",
    "        optimizer.zero_grad()\n",
    "        \n",
    "        outputs = model(enc_inputs, dec_inputs)\n",
    "        logits = outputs[0]\n",
    "        \n",
    "        loss = criterion(logits, labels)\n",
    "        loss_val= loss.item()\n",
    "        loss_ls.append(loss_val)\n",
    "        \n",
    "        loss.backward()\n",
    "        optimizer.step()\n",
    "    \n",
    "    return np.mean(loss_ls) # batch 당 loss 평균"
   ]
  },
  {
   "cell_type": "code",
   "execution_count": 95,
   "metadata": {},
   "outputs": [
    {
     "data": {
      "text/plain": [
       "0.1"
      ]
     },
     "execution_count": 95,
     "metadata": {},
     "output_type": "execute_result"
    }
   ],
   "source": [
    "config.dropout"
   ]
  },
  {
   "cell_type": "code",
   "execution_count": null,
   "metadata": {},
   "outputs": [],
   "source": [
    "model = MovieClf(config)\n",
    "model.to(config.device)\n",
    "\n",
    "criterion = torch.nn.CrossEntropyLoss()\n",
    "optimizer = torch.optim.Adam(model.parameters(), lr=learning_rate)\n",
    "\n",
    "best_epoch, best_loss, best_score = 0, 0, 0\n",
    "loss_ls, score_ls = [], []\n",
    "for epoch in range(n_epoch):\n",
    "    loss = train_epoch(config, epoch, model, criterion, optimizer, train_loader)\n",
    "    score = eval_epoch(config, model, test_loader)\n",
    "    \n",
    "    loss_ls.append(loss)\n",
    "    scores.append(score)\n",
    "    \n",
    "    if best_score < score:\n",
    "        best_epoch, best_loss, best_score = epoch, loss, score"
   ]
  }
 ],
 "metadata": {
  "kernelspec": {
   "display_name": "py3",
   "language": "python",
   "name": "py3"
  },
  "language_info": {
   "codemirror_mode": {
    "name": "ipython",
    "version": 3
   },
   "file_extension": ".py",
   "mimetype": "text/x-python",
   "name": "python",
   "nbconvert_exporter": "python",
   "pygments_lexer": "ipython3",
   "version": "3.6.5"
  },
  "varInspector": {
   "cols": {
    "lenName": 16,
    "lenType": 16,
    "lenVar": 40
   },
   "kernels_config": {
    "python": {
     "delete_cmd_postfix": "",
     "delete_cmd_prefix": "del ",
     "library": "var_list.py",
     "varRefreshCmd": "print(var_dic_list())"
    },
    "r": {
     "delete_cmd_postfix": ") ",
     "delete_cmd_prefix": "rm(",
     "library": "var_list.r",
     "varRefreshCmd": "cat(var_dic_list()) "
    }
   },
   "types_to_exclude": [
    "module",
    "function",
    "builtin_function_or_method",
    "instance",
    "_Feature"
   ],
   "window_display": false
  }
 },
 "nbformat": 4,
 "nbformat_minor": 2
}
